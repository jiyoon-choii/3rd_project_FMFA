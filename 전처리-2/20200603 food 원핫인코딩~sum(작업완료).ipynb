{
 "cells": [
  {
   "cell_type": "markdown",
   "metadata": {},
   "source": [
    "# 파일로드"
   ]
  },
  {
   "cell_type": "code",
   "execution_count": 77,
   "metadata": {},
   "outputs": [],
   "source": [
    "import pandas as pd\n",
    "new_df = pd.read_csv(\"/home/team/바탕화면/파이널프로젝트2/data/new_df.csv\")"
   ]
  },
  {
   "cell_type": "code",
   "execution_count": 78,
   "metadata": {
    "scrolled": true
   },
   "outputs": [
    {
     "data": {
      "text/html": [
       "<div>\n",
       "<style scoped>\n",
       "    .dataframe tbody tr th:only-of-type {\n",
       "        vertical-align: middle;\n",
       "    }\n",
       "\n",
       "    .dataframe tbody tr th {\n",
       "        vertical-align: top;\n",
       "    }\n",
       "\n",
       "    .dataframe thead th {\n",
       "        text-align: right;\n",
       "    }\n",
       "</style>\n",
       "<table border=\"1\" class=\"dataframe\">\n",
       "  <thead>\n",
       "    <tr style=\"text-align: right;\">\n",
       "      <th></th>\n",
       "      <th>Unnamed: 0</th>\n",
       "      <th>user_name</th>\n",
       "      <th>food</th>\n",
       "    </tr>\n",
       "  </thead>\n",
       "  <tbody>\n",
       "    <tr>\n",
       "      <th>0</th>\n",
       "      <td>KgQnRvsPSrJJTOCp-reYZA</td>\n",
       "      <td>KgQnRvsPSrJJTOCp-reYZA</td>\n",
       "      <td>['galbitang', 'bulgogi']</td>\n",
       "    </tr>\n",
       "    <tr>\n",
       "      <th>1</th>\n",
       "      <td>1goJa-4OKwc--vlISRm54g</td>\n",
       "      <td>1goJa-4OKwc--vlISRm54g</td>\n",
       "      <td>['bulgogi', 'bulgogi']</td>\n",
       "    </tr>\n",
       "    <tr>\n",
       "      <th>2</th>\n",
       "      <td>6agrhhelmT9DLUfx4EeZVA</td>\n",
       "      <td>6agrhhelmT9DLUfx4EeZVA</td>\n",
       "      <td>['galbigui', 'galbitang']</td>\n",
       "    </tr>\n",
       "    <tr>\n",
       "      <th>3</th>\n",
       "      <td>AvaeN3hgxdytAEMlNud-FQ</td>\n",
       "      <td>AvaeN3hgxdytAEMlNud-FQ</td>\n",
       "      <td>['kimchijjigae', 'galbigui']</td>\n",
       "    </tr>\n",
       "    <tr>\n",
       "      <th>4</th>\n",
       "      <td>wML8YiFzB1JuCfyhPptiSg</td>\n",
       "      <td>wML8YiFzB1JuCfyhPptiSg</td>\n",
       "      <td>['galbigui', 'doenjangjjigae']</td>\n",
       "    </tr>\n",
       "    <tr>\n",
       "      <th>...</th>\n",
       "      <td>...</td>\n",
       "      <td>...</td>\n",
       "      <td>...</td>\n",
       "    </tr>\n",
       "    <tr>\n",
       "      <th>78628</th>\n",
       "      <td>Arlene K</td>\n",
       "      <td>Arlene K</td>\n",
       "      <td>['yangnyeomchicken', 'yangnyeomchicken']</td>\n",
       "    </tr>\n",
       "    <tr>\n",
       "      <th>78629</th>\n",
       "      <td>MrsOS2014</td>\n",
       "      <td>MrsOS2014</td>\n",
       "      <td>['yangnyeomchicken', 'yangnyeomchicken']</td>\n",
       "    </tr>\n",
       "    <tr>\n",
       "      <th>78630</th>\n",
       "      <td>Alison A</td>\n",
       "      <td>Alison A</td>\n",
       "      <td>['yangnyeomchicken', 'yangnyeomchicken']</td>\n",
       "    </tr>\n",
       "    <tr>\n",
       "      <th>78631</th>\n",
       "      <td>addiction4travel</td>\n",
       "      <td>addiction4travel</td>\n",
       "      <td>['yangnyeomchicken', 'friedchicken']</td>\n",
       "    </tr>\n",
       "    <tr>\n",
       "      <th>78632</th>\n",
       "      <td>152JoyB</td>\n",
       "      <td>152JoyB</td>\n",
       "      <td>['friedchicken', 'yangnyeomchicken']</td>\n",
       "    </tr>\n",
       "  </tbody>\n",
       "</table>\n",
       "<p>78633 rows × 3 columns</p>\n",
       "</div>"
      ],
      "text/plain": [
       "                   Unnamed: 0               user_name  \\\n",
       "0      KgQnRvsPSrJJTOCp-reYZA  KgQnRvsPSrJJTOCp-reYZA   \n",
       "1      1goJa-4OKwc--vlISRm54g  1goJa-4OKwc--vlISRm54g   \n",
       "2      6agrhhelmT9DLUfx4EeZVA  6agrhhelmT9DLUfx4EeZVA   \n",
       "3      AvaeN3hgxdytAEMlNud-FQ  AvaeN3hgxdytAEMlNud-FQ   \n",
       "4      wML8YiFzB1JuCfyhPptiSg  wML8YiFzB1JuCfyhPptiSg   \n",
       "...                       ...                     ...   \n",
       "78628                Arlene K                Arlene K   \n",
       "78629               MrsOS2014               MrsOS2014   \n",
       "78630                Alison A                Alison A   \n",
       "78631        addiction4travel        addiction4travel   \n",
       "78632                 152JoyB                 152JoyB   \n",
       "\n",
       "                                           food  \n",
       "0                      ['galbitang', 'bulgogi']  \n",
       "1                        ['bulgogi', 'bulgogi']  \n",
       "2                     ['galbigui', 'galbitang']  \n",
       "3                  ['kimchijjigae', 'galbigui']  \n",
       "4                ['galbigui', 'doenjangjjigae']  \n",
       "...                                         ...  \n",
       "78628  ['yangnyeomchicken', 'yangnyeomchicken']  \n",
       "78629  ['yangnyeomchicken', 'yangnyeomchicken']  \n",
       "78630  ['yangnyeomchicken', 'yangnyeomchicken']  \n",
       "78631      ['yangnyeomchicken', 'friedchicken']  \n",
       "78632      ['friedchicken', 'yangnyeomchicken']  \n",
       "\n",
       "[78633 rows x 3 columns]"
      ]
     },
     "execution_count": 78,
     "metadata": {},
     "output_type": "execute_result"
    }
   ],
   "source": [
    "new_df"
   ]
  },
  {
   "cell_type": "markdown",
   "metadata": {},
   "source": [
    "# 음식 리스트 로드"
   ]
  },
  {
   "cell_type": "code",
   "execution_count": 5,
   "metadata": {},
   "outputs": [],
   "source": [
    "food_in_english =[\n",
    "    'galbigui',\n",
    " 'galchigui',\n",
    " 'godeungeogui',\n",
    " 'gopchanggui',\n",
    " 'dakgalbi',\n",
    " 'deodeokgui',\n",
    " 'tteokgalbi',\n",
    " 'bulgogi',\n",
    " 'samgyeopsal',\n",
    " 'jangeogui',\n",
    " 'jogaegui',\n",
    " 'jogigui',\n",
    " 'hwangtaegui',\n",
    " 'hunjeori',\n",
    " 'gyelangug',\n",
    " 'tteokguk-mandutguk',\n",
    " 'muguk',\n",
    " 'miyeokguk',\n",
    " 'bugeotguk',\n",
    " 'siraegiguk',\n",
    " 'yukgaejang',\n",
    " 'kongnamulguk',\n",
    " 'gwamegi',\n",
    " 'yangnyeomchicken',\n",
    " 'jeotgal',\n",
    " 'kongjaban',\n",
    " 'pyeonyuk',\n",
    " 'pizza',\n",
    " 'friedchicken',\n",
    " 'gatkimchi',\n",
    " 'kkakdugi',\n",
    " 'nabakkimchi',\n",
    " 'musaengchae',\n",
    " 'baechukimchi',\n",
    " 'baekkimchi',\n",
    " 'buchukimchi',\n",
    " 'yeolmukimchi',\n",
    " 'oisobagi',\n",
    " 'chonggakkimchi',\n",
    " 'pakimchi',\n",
    " 'gajibokkeum',\n",
    " 'gosarinamul',\n",
    " 'miyeokjulgibokkeum',\n",
    " 'sukjunamul',\n",
    " 'sigeumchinamul',\n",
    " 'aehobakbokkeum',\n",
    " 'gyeongdan',\n",
    " 'kkultteok',\n",
    " 'songpyeon',\n",
    " 'mandu',\n",
    " 'ramyeon',\n",
    " 'makguksu',\n",
    " 'mulnaengmyeon',\n",
    " 'bibimnaengmyeon',\n",
    " 'sujebi',\n",
    " 'yeolmuguksu',\n",
    " 'janchiguksu',\n",
    " 'jajangmyeon',\n",
    " 'jjamppong',\n",
    " 'jjolmyeon',\n",
    " 'kalguksu',\n",
    " 'kongguksu',\n",
    " 'kkwaligochumuchim',\n",
    " 'dorajimuchim',\n",
    " 'dotorimuk',\n",
    " 'japchae',\n",
    " 'kongnamulmuchim',\n",
    " 'hongeomuchim',\n",
    " 'hoemuchim',\n",
    " 'gimbap',\n",
    " 'kimchibokkeumbap',\n",
    " 'nurungji',\n",
    " 'bibimbap',\n",
    " 'saeubokkeumbap',\n",
    " 'albap',\n",
    " 'yubuchobap',\n",
    " 'japgokbap',\n",
    " 'jumeokbap',\n",
    " 'gamjachaebokkeum',\n",
    " 'geonsaeubokkeum',\n",
    " 'gochujangjinmichaebokkeum',\n",
    " 'dubukimchi',\n",
    " 'tteokbokki',\n",
    " 'rabokki',\n",
    " 'myeolchibokkeum',\n",
    " 'sausagebokkeum',\n",
    " 'eomukbokkeum',\n",
    " 'ojingeochaebokkeum',\n",
    " 'jeyukbokkeum',\n",
    " 'jukkumibokkeum',\n",
    " 'bossam',\n",
    " 'sujeonggwa',\n",
    " 'sikhye',\n",
    " 'ganjanggejang',\n",
    " 'yangnyeomgejang',\n",
    " 'kkaesipjangajji',\n",
    " 'tteokkkochi',\n",
    " 'gamjajeon',\n",
    " 'gyeranmari',\n",
    " 'gyeranfry',\n",
    " 'kimchijeon',\n",
    " 'dongeurangttaeng',\n",
    " 'saengseonjeon',\n",
    " 'pajeon',\n",
    " 'hobakjeon',\n",
    " 'gopchangjeongol',\n",
    " 'galchijorim',\n",
    " 'gamjajorim',\n",
    " 'godeungeojorim',\n",
    " 'kkongchijorim',\n",
    " 'dubujorim',\n",
    " 'ttangkongjorim',\n",
    " 'mechurialjangjorim',\n",
    " 'yeongeunjorim',\n",
    " 'ueongjorim',\n",
    " 'jangjorim',\n",
    " 'kodarijorim',\n",
    " 'jeonbokjuk',\n",
    " 'hobakjuk',\n",
    " 'kimchijjigae',\n",
    " 'dakgyejang',\n",
    " 'dongtaejjigae',\n",
    " 'doenjangjjigae',\n",
    " 'sundubujjigae',\n",
    " 'galbijjim',\n",
    " 'gyeranjjim',\n",
    " 'kimchijjim',\n",
    " 'kkomakjjim',\n",
    " 'dakbokkeumtang',\n",
    " 'suyuk',\n",
    " 'sundae',\n",
    " 'jokbal',\n",
    " 'jjimdak',\n",
    " 'haemuljjim',\n",
    " 'galbitang',\n",
    " 'gamjatang',\n",
    " 'gomguk-seolleongtang',\n",
    " 'maeuntang',\n",
    " 'samgyetang',\n",
    " 'chueotang',\n",
    " 'gochutwigim',\n",
    " 'saeutwigim',\n",
    " 'ojingeotwigim',\n",
    " 'yakgwa',\n",
    " 'yaksik',\n",
    " 'hangwa',\n",
    " 'meongge',\n",
    " 'sannakji',\n",
    " 'mulhoe',\n",
    " 'yukhoe']"
   ]
  },
  {
   "cell_type": "markdown",
   "metadata": {},
   "source": [
    "## 음식 리스트이름으로 컬럼 만들기"
   ]
  },
  {
   "cell_type": "code",
   "execution_count": 79,
   "metadata": {},
   "outputs": [],
   "source": [
    "for j in food_in_english:\n",
    "    new_df[j] = None"
   ]
  },
  {
   "cell_type": "code",
   "execution_count": 75,
   "metadata": {
    "scrolled": true
   },
   "outputs": [
    {
     "data": {
      "text/plain": [
       "NoneType"
      ]
     },
     "execution_count": 75,
     "metadata": {},
     "output_type": "execute_result"
    }
   ],
   "source": [
    "type(new_df.iloc[0].galchigui)"
   ]
  },
  {
   "cell_type": "markdown",
   "metadata": {},
   "source": [
    "- 저장"
   ]
  },
  {
   "cell_type": "code",
   "execution_count": 80,
   "metadata": {},
   "outputs": [],
   "source": [
    "new_df.to_csv('/home/team/바탕화면/파이널프로젝트2/data/food_df.csv', index=False)"
   ]
  },
  {
   "cell_type": "code",
   "execution_count": null,
   "metadata": {},
   "outputs": [],
   "source": []
  },
  {
   "cell_type": "markdown",
   "metadata": {},
   "source": [
    "# None 값 들어간 데이터 프레임 불러오기"
   ]
  },
  {
   "cell_type": "code",
   "execution_count": 69,
   "metadata": {
    "scrolled": true
   },
   "outputs": [
    {
     "data": {
      "text/html": [
       "<div>\n",
       "<style scoped>\n",
       "    .dataframe tbody tr th:only-of-type {\n",
       "        vertical-align: middle;\n",
       "    }\n",
       "\n",
       "    .dataframe tbody tr th {\n",
       "        vertical-align: top;\n",
       "    }\n",
       "\n",
       "    .dataframe thead th {\n",
       "        text-align: right;\n",
       "    }\n",
       "</style>\n",
       "<table border=\"1\" class=\"dataframe\">\n",
       "  <thead>\n",
       "    <tr style=\"text-align: right;\">\n",
       "      <th></th>\n",
       "      <th>Unnamed: 0</th>\n",
       "      <th>user_name</th>\n",
       "      <th>food</th>\n",
       "      <th>galbigui</th>\n",
       "      <th>galchigui</th>\n",
       "      <th>godeungeogui</th>\n",
       "      <th>gopchanggui</th>\n",
       "      <th>dakgalbi</th>\n",
       "      <th>deodeokgui</th>\n",
       "      <th>tteokgalbi</th>\n",
       "      <th>...</th>\n",
       "      <th>gochutwigim</th>\n",
       "      <th>saeutwigim</th>\n",
       "      <th>ojingeotwigim</th>\n",
       "      <th>yakgwa</th>\n",
       "      <th>yaksik</th>\n",
       "      <th>hangwa</th>\n",
       "      <th>meongge</th>\n",
       "      <th>sannakji</th>\n",
       "      <th>mulhoe</th>\n",
       "      <th>yukhoe</th>\n",
       "    </tr>\n",
       "  </thead>\n",
       "  <tbody>\n",
       "    <tr>\n",
       "      <th>0</th>\n",
       "      <td>KgQnRvsPSrJJTOCp-reYZA</td>\n",
       "      <td>KgQnRvsPSrJJTOCp-reYZA</td>\n",
       "      <td>['galbitang', 'bulgogi']</td>\n",
       "      <td>NaN</td>\n",
       "      <td>NaN</td>\n",
       "      <td>NaN</td>\n",
       "      <td>NaN</td>\n",
       "      <td>NaN</td>\n",
       "      <td>NaN</td>\n",
       "      <td>NaN</td>\n",
       "      <td>...</td>\n",
       "      <td>NaN</td>\n",
       "      <td>NaN</td>\n",
       "      <td>NaN</td>\n",
       "      <td>NaN</td>\n",
       "      <td>NaN</td>\n",
       "      <td>NaN</td>\n",
       "      <td>NaN</td>\n",
       "      <td>NaN</td>\n",
       "      <td>NaN</td>\n",
       "      <td>NaN</td>\n",
       "    </tr>\n",
       "    <tr>\n",
       "      <th>1</th>\n",
       "      <td>1goJa-4OKwc--vlISRm54g</td>\n",
       "      <td>1goJa-4OKwc--vlISRm54g</td>\n",
       "      <td>['bulgogi', 'bulgogi']</td>\n",
       "      <td>NaN</td>\n",
       "      <td>NaN</td>\n",
       "      <td>NaN</td>\n",
       "      <td>NaN</td>\n",
       "      <td>NaN</td>\n",
       "      <td>NaN</td>\n",
       "      <td>NaN</td>\n",
       "      <td>...</td>\n",
       "      <td>NaN</td>\n",
       "      <td>NaN</td>\n",
       "      <td>NaN</td>\n",
       "      <td>NaN</td>\n",
       "      <td>NaN</td>\n",
       "      <td>NaN</td>\n",
       "      <td>NaN</td>\n",
       "      <td>NaN</td>\n",
       "      <td>NaN</td>\n",
       "      <td>NaN</td>\n",
       "    </tr>\n",
       "    <tr>\n",
       "      <th>2</th>\n",
       "      <td>6agrhhelmT9DLUfx4EeZVA</td>\n",
       "      <td>6agrhhelmT9DLUfx4EeZVA</td>\n",
       "      <td>['galbigui', 'galbitang']</td>\n",
       "      <td>NaN</td>\n",
       "      <td>NaN</td>\n",
       "      <td>NaN</td>\n",
       "      <td>NaN</td>\n",
       "      <td>NaN</td>\n",
       "      <td>NaN</td>\n",
       "      <td>NaN</td>\n",
       "      <td>...</td>\n",
       "      <td>NaN</td>\n",
       "      <td>NaN</td>\n",
       "      <td>NaN</td>\n",
       "      <td>NaN</td>\n",
       "      <td>NaN</td>\n",
       "      <td>NaN</td>\n",
       "      <td>NaN</td>\n",
       "      <td>NaN</td>\n",
       "      <td>NaN</td>\n",
       "      <td>NaN</td>\n",
       "    </tr>\n",
       "    <tr>\n",
       "      <th>3</th>\n",
       "      <td>AvaeN3hgxdytAEMlNud-FQ</td>\n",
       "      <td>AvaeN3hgxdytAEMlNud-FQ</td>\n",
       "      <td>['kimchijjigae', 'galbigui']</td>\n",
       "      <td>NaN</td>\n",
       "      <td>NaN</td>\n",
       "      <td>NaN</td>\n",
       "      <td>NaN</td>\n",
       "      <td>NaN</td>\n",
       "      <td>NaN</td>\n",
       "      <td>NaN</td>\n",
       "      <td>...</td>\n",
       "      <td>NaN</td>\n",
       "      <td>NaN</td>\n",
       "      <td>NaN</td>\n",
       "      <td>NaN</td>\n",
       "      <td>NaN</td>\n",
       "      <td>NaN</td>\n",
       "      <td>NaN</td>\n",
       "      <td>NaN</td>\n",
       "      <td>NaN</td>\n",
       "      <td>NaN</td>\n",
       "    </tr>\n",
       "    <tr>\n",
       "      <th>4</th>\n",
       "      <td>wML8YiFzB1JuCfyhPptiSg</td>\n",
       "      <td>wML8YiFzB1JuCfyhPptiSg</td>\n",
       "      <td>['galbigui', 'doenjangjjigae']</td>\n",
       "      <td>NaN</td>\n",
       "      <td>NaN</td>\n",
       "      <td>NaN</td>\n",
       "      <td>NaN</td>\n",
       "      <td>NaN</td>\n",
       "      <td>NaN</td>\n",
       "      <td>NaN</td>\n",
       "      <td>...</td>\n",
       "      <td>NaN</td>\n",
       "      <td>NaN</td>\n",
       "      <td>NaN</td>\n",
       "      <td>NaN</td>\n",
       "      <td>NaN</td>\n",
       "      <td>NaN</td>\n",
       "      <td>NaN</td>\n",
       "      <td>NaN</td>\n",
       "      <td>NaN</td>\n",
       "      <td>NaN</td>\n",
       "    </tr>\n",
       "  </tbody>\n",
       "</table>\n",
       "<p>5 rows × 153 columns</p>\n",
       "</div>"
      ],
      "text/plain": [
       "               Unnamed: 0               user_name  \\\n",
       "0  KgQnRvsPSrJJTOCp-reYZA  KgQnRvsPSrJJTOCp-reYZA   \n",
       "1  1goJa-4OKwc--vlISRm54g  1goJa-4OKwc--vlISRm54g   \n",
       "2  6agrhhelmT9DLUfx4EeZVA  6agrhhelmT9DLUfx4EeZVA   \n",
       "3  AvaeN3hgxdytAEMlNud-FQ  AvaeN3hgxdytAEMlNud-FQ   \n",
       "4  wML8YiFzB1JuCfyhPptiSg  wML8YiFzB1JuCfyhPptiSg   \n",
       "\n",
       "                             food  galbigui  galchigui  godeungeogui  \\\n",
       "0        ['galbitang', 'bulgogi']       NaN        NaN           NaN   \n",
       "1          ['bulgogi', 'bulgogi']       NaN        NaN           NaN   \n",
       "2       ['galbigui', 'galbitang']       NaN        NaN           NaN   \n",
       "3    ['kimchijjigae', 'galbigui']       NaN        NaN           NaN   \n",
       "4  ['galbigui', 'doenjangjjigae']       NaN        NaN           NaN   \n",
       "\n",
       "   gopchanggui  dakgalbi  deodeokgui  tteokgalbi  ...  gochutwigim  \\\n",
       "0          NaN       NaN         NaN         NaN  ...          NaN   \n",
       "1          NaN       NaN         NaN         NaN  ...          NaN   \n",
       "2          NaN       NaN         NaN         NaN  ...          NaN   \n",
       "3          NaN       NaN         NaN         NaN  ...          NaN   \n",
       "4          NaN       NaN         NaN         NaN  ...          NaN   \n",
       "\n",
       "   saeutwigim  ojingeotwigim  yakgwa  yaksik  hangwa  meongge  sannakji  \\\n",
       "0         NaN            NaN     NaN     NaN     NaN      NaN       NaN   \n",
       "1         NaN            NaN     NaN     NaN     NaN      NaN       NaN   \n",
       "2         NaN            NaN     NaN     NaN     NaN      NaN       NaN   \n",
       "3         NaN            NaN     NaN     NaN     NaN      NaN       NaN   \n",
       "4         NaN            NaN     NaN     NaN     NaN      NaN       NaN   \n",
       "\n",
       "   mulhoe  yukhoe  \n",
       "0     NaN     NaN  \n",
       "1     NaN     NaN  \n",
       "2     NaN     NaN  \n",
       "3     NaN     NaN  \n",
       "4     NaN     NaN  \n",
       "\n",
       "[5 rows x 153 columns]"
      ]
     },
     "execution_count": 69,
     "metadata": {},
     "output_type": "execute_result"
    }
   ],
   "source": [
    "food_df = pd.read_csv('/home/team/바탕화면/파이널프로젝트2/data/food_df.csv')\n",
    "food_df.head()"
   ]
  },
  {
   "cell_type": "code",
   "execution_count": 71,
   "metadata": {},
   "outputs": [
    {
     "data": {
      "text/plain": [
       "numpy.float64"
      ]
     },
     "execution_count": 71,
     "metadata": {},
     "output_type": "execute_result"
    }
   ],
   "source": [
    "type(food_df.iloc[0].galchigui)"
   ]
  },
  {
   "cell_type": "markdown",
   "metadata": {},
   "source": [
    "# food컬럼 리스트화"
   ]
  },
  {
   "cell_type": "code",
   "execution_count": 81,
   "metadata": {},
   "outputs": [],
   "source": [
    "new_df['food'] = new_df['food'].apply( eval )"
   ]
  },
  {
   "cell_type": "markdown",
   "metadata": {},
   "source": [
    "# 비어있는 행에 값 채우기"
   ]
  },
  {
   "cell_type": "code",
   "execution_count": 21,
   "metadata": {},
   "outputs": [],
   "source": [
    "new_df = food_df[:]"
   ]
  },
  {
   "cell_type": "code",
   "execution_count": 65,
   "metadata": {},
   "outputs": [
    {
     "data": {
      "text/html": [
       "<div>\n",
       "<style scoped>\n",
       "    .dataframe tbody tr th:only-of-type {\n",
       "        vertical-align: middle;\n",
       "    }\n",
       "\n",
       "    .dataframe tbody tr th {\n",
       "        vertical-align: top;\n",
       "    }\n",
       "\n",
       "    .dataframe thead th {\n",
       "        text-align: right;\n",
       "    }\n",
       "</style>\n",
       "<table border=\"1\" class=\"dataframe\">\n",
       "  <thead>\n",
       "    <tr style=\"text-align: right;\">\n",
       "      <th></th>\n",
       "      <th>Unnamed: 0</th>\n",
       "      <th>user_name</th>\n",
       "      <th>food</th>\n",
       "    </tr>\n",
       "  </thead>\n",
       "  <tbody>\n",
       "    <tr>\n",
       "      <th>0</th>\n",
       "      <td>KgQnRvsPSrJJTOCp-reYZA</td>\n",
       "      <td>KgQnRvsPSrJJTOCp-reYZA</td>\n",
       "      <td>['galbitang', 'bulgogi']</td>\n",
       "    </tr>\n",
       "    <tr>\n",
       "      <th>1</th>\n",
       "      <td>1goJa-4OKwc--vlISRm54g</td>\n",
       "      <td>1goJa-4OKwc--vlISRm54g</td>\n",
       "      <td>['bulgogi', 'bulgogi']</td>\n",
       "    </tr>\n",
       "    <tr>\n",
       "      <th>2</th>\n",
       "      <td>6agrhhelmT9DLUfx4EeZVA</td>\n",
       "      <td>6agrhhelmT9DLUfx4EeZVA</td>\n",
       "      <td>['galbigui', 'galbitang']</td>\n",
       "    </tr>\n",
       "    <tr>\n",
       "      <th>3</th>\n",
       "      <td>AvaeN3hgxdytAEMlNud-FQ</td>\n",
       "      <td>AvaeN3hgxdytAEMlNud-FQ</td>\n",
       "      <td>['kimchijjigae', 'galbigui']</td>\n",
       "    </tr>\n",
       "    <tr>\n",
       "      <th>4</th>\n",
       "      <td>wML8YiFzB1JuCfyhPptiSg</td>\n",
       "      <td>wML8YiFzB1JuCfyhPptiSg</td>\n",
       "      <td>['galbigui', 'doenjangjjigae']</td>\n",
       "    </tr>\n",
       "    <tr>\n",
       "      <th>...</th>\n",
       "      <td>...</td>\n",
       "      <td>...</td>\n",
       "      <td>...</td>\n",
       "    </tr>\n",
       "    <tr>\n",
       "      <th>78628</th>\n",
       "      <td>Arlene K</td>\n",
       "      <td>Arlene K</td>\n",
       "      <td>['yangnyeomchicken', 'yangnyeomchicken']</td>\n",
       "    </tr>\n",
       "    <tr>\n",
       "      <th>78629</th>\n",
       "      <td>MrsOS2014</td>\n",
       "      <td>MrsOS2014</td>\n",
       "      <td>['yangnyeomchicken', 'yangnyeomchicken']</td>\n",
       "    </tr>\n",
       "    <tr>\n",
       "      <th>78630</th>\n",
       "      <td>Alison A</td>\n",
       "      <td>Alison A</td>\n",
       "      <td>['yangnyeomchicken', 'yangnyeomchicken']</td>\n",
       "    </tr>\n",
       "    <tr>\n",
       "      <th>78631</th>\n",
       "      <td>addiction4travel</td>\n",
       "      <td>addiction4travel</td>\n",
       "      <td>['yangnyeomchicken', 'friedchicken']</td>\n",
       "    </tr>\n",
       "    <tr>\n",
       "      <th>78632</th>\n",
       "      <td>152JoyB</td>\n",
       "      <td>152JoyB</td>\n",
       "      <td>['friedchicken', 'yangnyeomchicken']</td>\n",
       "    </tr>\n",
       "  </tbody>\n",
       "</table>\n",
       "<p>78633 rows × 3 columns</p>\n",
       "</div>"
      ],
      "text/plain": [
       "                   Unnamed: 0               user_name  \\\n",
       "0      KgQnRvsPSrJJTOCp-reYZA  KgQnRvsPSrJJTOCp-reYZA   \n",
       "1      1goJa-4OKwc--vlISRm54g  1goJa-4OKwc--vlISRm54g   \n",
       "2      6agrhhelmT9DLUfx4EeZVA  6agrhhelmT9DLUfx4EeZVA   \n",
       "3      AvaeN3hgxdytAEMlNud-FQ  AvaeN3hgxdytAEMlNud-FQ   \n",
       "4      wML8YiFzB1JuCfyhPptiSg  wML8YiFzB1JuCfyhPptiSg   \n",
       "...                       ...                     ...   \n",
       "78628                Arlene K                Arlene K   \n",
       "78629               MrsOS2014               MrsOS2014   \n",
       "78630                Alison A                Alison A   \n",
       "78631        addiction4travel        addiction4travel   \n",
       "78632                 152JoyB                 152JoyB   \n",
       "\n",
       "                                           food  \n",
       "0                      ['galbitang', 'bulgogi']  \n",
       "1                        ['bulgogi', 'bulgogi']  \n",
       "2                     ['galbigui', 'galbitang']  \n",
       "3                  ['kimchijjigae', 'galbigui']  \n",
       "4                ['galbigui', 'doenjangjjigae']  \n",
       "...                                         ...  \n",
       "78628  ['yangnyeomchicken', 'yangnyeomchicken']  \n",
       "78629  ['yangnyeomchicken', 'yangnyeomchicken']  \n",
       "78630  ['yangnyeomchicken', 'yangnyeomchicken']  \n",
       "78631      ['yangnyeomchicken', 'friedchicken']  \n",
       "78632      ['friedchicken', 'yangnyeomchicken']  \n",
       "\n",
       "[78633 rows x 3 columns]"
      ]
     },
     "execution_count": 65,
     "metadata": {},
     "output_type": "execute_result"
    }
   ],
   "source": [
    "new_df"
   ]
  },
  {
   "cell_type": "code",
   "execution_count": 45,
   "metadata": {},
   "outputs": [
    {
     "data": {
      "text/plain": [
       "Unnamed: 0                             152JoyB\n",
       "user_name                              152JoyB\n",
       "food          [friedchicken, yangnyeomchicken]\n",
       "galbigui                                   NaN\n",
       "galchigui                                  NaN\n",
       "                            ...               \n",
       "hangwa                                     NaN\n",
       "meongge                                    NaN\n",
       "sannakji                                   NaN\n",
       "mulhoe                                     NaN\n",
       "yukhoe                                     NaN\n",
       "Name: 78632, Length: 153, dtype: object"
      ]
     },
     "execution_count": 45,
     "metadata": {},
     "output_type": "execute_result"
    }
   ],
   "source": [
    "new_df.iloc[78632]"
   ]
  },
  {
   "cell_type": "code",
   "execution_count": 47,
   "metadata": {},
   "outputs": [
    {
     "data": {
      "text/html": [
       "<div>\n",
       "<style scoped>\n",
       "    .dataframe tbody tr th:only-of-type {\n",
       "        vertical-align: middle;\n",
       "    }\n",
       "\n",
       "    .dataframe tbody tr th {\n",
       "        vertical-align: top;\n",
       "    }\n",
       "\n",
       "    .dataframe thead th {\n",
       "        text-align: right;\n",
       "    }\n",
       "</style>\n",
       "<table border=\"1\" class=\"dataframe\">\n",
       "  <thead>\n",
       "    <tr style=\"text-align: right;\">\n",
       "      <th></th>\n",
       "      <th>Unnamed: 0</th>\n",
       "      <th>user_name</th>\n",
       "      <th>food</th>\n",
       "      <th>galbigui</th>\n",
       "      <th>galchigui</th>\n",
       "      <th>godeungeogui</th>\n",
       "      <th>gopchanggui</th>\n",
       "      <th>dakgalbi</th>\n",
       "      <th>deodeokgui</th>\n",
       "      <th>tteokgalbi</th>\n",
       "      <th>...</th>\n",
       "      <th>gochutwigim</th>\n",
       "      <th>saeutwigim</th>\n",
       "      <th>ojingeotwigim</th>\n",
       "      <th>yakgwa</th>\n",
       "      <th>yaksik</th>\n",
       "      <th>hangwa</th>\n",
       "      <th>meongge</th>\n",
       "      <th>sannakji</th>\n",
       "      <th>mulhoe</th>\n",
       "      <th>yukhoe</th>\n",
       "    </tr>\n",
       "  </thead>\n",
       "  <tbody>\n",
       "    <tr>\n",
       "      <th>78628</th>\n",
       "      <td>Arlene K</td>\n",
       "      <td>Arlene K</td>\n",
       "      <td>[yangnyeomchicken, yangnyeomchicken]</td>\n",
       "      <td>NaN</td>\n",
       "      <td>NaN</td>\n",
       "      <td>NaN</td>\n",
       "      <td>NaN</td>\n",
       "      <td>NaN</td>\n",
       "      <td>NaN</td>\n",
       "      <td>NaN</td>\n",
       "      <td>...</td>\n",
       "      <td>NaN</td>\n",
       "      <td>NaN</td>\n",
       "      <td>NaN</td>\n",
       "      <td>NaN</td>\n",
       "      <td>NaN</td>\n",
       "      <td>NaN</td>\n",
       "      <td>NaN</td>\n",
       "      <td>NaN</td>\n",
       "      <td>NaN</td>\n",
       "      <td>NaN</td>\n",
       "    </tr>\n",
       "    <tr>\n",
       "      <th>78629</th>\n",
       "      <td>MrsOS2014</td>\n",
       "      <td>MrsOS2014</td>\n",
       "      <td>[yangnyeomchicken, yangnyeomchicken]</td>\n",
       "      <td>NaN</td>\n",
       "      <td>NaN</td>\n",
       "      <td>NaN</td>\n",
       "      <td>NaN</td>\n",
       "      <td>NaN</td>\n",
       "      <td>NaN</td>\n",
       "      <td>NaN</td>\n",
       "      <td>...</td>\n",
       "      <td>NaN</td>\n",
       "      <td>NaN</td>\n",
       "      <td>NaN</td>\n",
       "      <td>NaN</td>\n",
       "      <td>NaN</td>\n",
       "      <td>NaN</td>\n",
       "      <td>NaN</td>\n",
       "      <td>NaN</td>\n",
       "      <td>NaN</td>\n",
       "      <td>NaN</td>\n",
       "    </tr>\n",
       "    <tr>\n",
       "      <th>78630</th>\n",
       "      <td>Alison A</td>\n",
       "      <td>Alison A</td>\n",
       "      <td>[yangnyeomchicken, yangnyeomchicken]</td>\n",
       "      <td>NaN</td>\n",
       "      <td>NaN</td>\n",
       "      <td>NaN</td>\n",
       "      <td>NaN</td>\n",
       "      <td>NaN</td>\n",
       "      <td>NaN</td>\n",
       "      <td>NaN</td>\n",
       "      <td>...</td>\n",
       "      <td>NaN</td>\n",
       "      <td>NaN</td>\n",
       "      <td>NaN</td>\n",
       "      <td>NaN</td>\n",
       "      <td>NaN</td>\n",
       "      <td>NaN</td>\n",
       "      <td>NaN</td>\n",
       "      <td>NaN</td>\n",
       "      <td>NaN</td>\n",
       "      <td>NaN</td>\n",
       "    </tr>\n",
       "    <tr>\n",
       "      <th>78631</th>\n",
       "      <td>addiction4travel</td>\n",
       "      <td>addiction4travel</td>\n",
       "      <td>[yangnyeomchicken, friedchicken]</td>\n",
       "      <td>NaN</td>\n",
       "      <td>NaN</td>\n",
       "      <td>NaN</td>\n",
       "      <td>NaN</td>\n",
       "      <td>NaN</td>\n",
       "      <td>NaN</td>\n",
       "      <td>NaN</td>\n",
       "      <td>...</td>\n",
       "      <td>NaN</td>\n",
       "      <td>NaN</td>\n",
       "      <td>NaN</td>\n",
       "      <td>NaN</td>\n",
       "      <td>NaN</td>\n",
       "      <td>NaN</td>\n",
       "      <td>NaN</td>\n",
       "      <td>NaN</td>\n",
       "      <td>NaN</td>\n",
       "      <td>NaN</td>\n",
       "    </tr>\n",
       "    <tr>\n",
       "      <th>78632</th>\n",
       "      <td>152JoyB</td>\n",
       "      <td>152JoyB</td>\n",
       "      <td>[friedchicken, yangnyeomchicken]</td>\n",
       "      <td>NaN</td>\n",
       "      <td>NaN</td>\n",
       "      <td>NaN</td>\n",
       "      <td>NaN</td>\n",
       "      <td>NaN</td>\n",
       "      <td>NaN</td>\n",
       "      <td>NaN</td>\n",
       "      <td>...</td>\n",
       "      <td>NaN</td>\n",
       "      <td>NaN</td>\n",
       "      <td>NaN</td>\n",
       "      <td>NaN</td>\n",
       "      <td>NaN</td>\n",
       "      <td>NaN</td>\n",
       "      <td>NaN</td>\n",
       "      <td>NaN</td>\n",
       "      <td>NaN</td>\n",
       "      <td>NaN</td>\n",
       "    </tr>\n",
       "  </tbody>\n",
       "</table>\n",
       "<p>5 rows × 153 columns</p>\n",
       "</div>"
      ],
      "text/plain": [
       "             Unnamed: 0         user_name  \\\n",
       "78628          Arlene K          Arlene K   \n",
       "78629         MrsOS2014         MrsOS2014   \n",
       "78630          Alison A          Alison A   \n",
       "78631  addiction4travel  addiction4travel   \n",
       "78632           152JoyB           152JoyB   \n",
       "\n",
       "                                       food  galbigui  galchigui  \\\n",
       "78628  [yangnyeomchicken, yangnyeomchicken]       NaN        NaN   \n",
       "78629  [yangnyeomchicken, yangnyeomchicken]       NaN        NaN   \n",
       "78630  [yangnyeomchicken, yangnyeomchicken]       NaN        NaN   \n",
       "78631      [yangnyeomchicken, friedchicken]       NaN        NaN   \n",
       "78632      [friedchicken, yangnyeomchicken]       NaN        NaN   \n",
       "\n",
       "       godeungeogui  gopchanggui  dakgalbi  deodeokgui  tteokgalbi  ...  \\\n",
       "78628           NaN          NaN       NaN         NaN         NaN  ...   \n",
       "78629           NaN          NaN       NaN         NaN         NaN  ...   \n",
       "78630           NaN          NaN       NaN         NaN         NaN  ...   \n",
       "78631           NaN          NaN       NaN         NaN         NaN  ...   \n",
       "78632           NaN          NaN       NaN         NaN         NaN  ...   \n",
       "\n",
       "       gochutwigim  saeutwigim  ojingeotwigim  yakgwa  yaksik  hangwa  \\\n",
       "78628          NaN         NaN            NaN     NaN     NaN     NaN   \n",
       "78629          NaN         NaN            NaN     NaN     NaN     NaN   \n",
       "78630          NaN         NaN            NaN     NaN     NaN     NaN   \n",
       "78631          NaN         NaN            NaN     NaN     NaN     NaN   \n",
       "78632          NaN         NaN            NaN     NaN     NaN     NaN   \n",
       "\n",
       "       meongge  sannakji  mulhoe  yukhoe  \n",
       "78628      NaN       NaN     NaN     NaN  \n",
       "78629      NaN       NaN     NaN     NaN  \n",
       "78630      NaN       NaN     NaN     NaN  \n",
       "78631      NaN       NaN     NaN     NaN  \n",
       "78632      NaN       NaN     NaN     NaN  \n",
       "\n",
       "[5 rows x 153 columns]"
      ]
     },
     "execution_count": 47,
     "metadata": {},
     "output_type": "execute_result"
    }
   ],
   "source": [
    "new_df.tail()"
   ]
  },
  {
   "cell_type": "code",
   "execution_count": 57,
   "metadata": {},
   "outputs": [
    {
     "data": {
      "text/plain": [
       "pandas.core.frame.DataFrame"
      ]
     },
     "execution_count": 57,
     "metadata": {},
     "output_type": "execute_result"
    }
   ],
   "source": [
    "type(new_df)"
   ]
  },
  {
   "cell_type": "code",
   "execution_count": 82,
   "metadata": {},
   "outputs": [
    {
     "name": "stderr",
     "output_type": "stream",
     "text": [
      "78633it [00:16, 4684.18it/s]\n"
     ]
    }
   ],
   "source": [
    "from tqdm import tqdm\n",
    "for idx,value in tqdm(enumerate(new_df['food'])) :\n",
    "    #print(type(idx))\n",
    "    #     print(idx, value)\n",
    "    for i in value:\n",
    "    #         print(i)\n",
    "        new_df.loc[idx][i]=1.0"
   ]
  },
  {
   "cell_type": "code",
   "execution_count": 73,
   "metadata": {},
   "outputs": [],
   "source": [
    "new_df.iloc[0]['galbitang']"
   ]
  },
  {
   "cell_type": "markdown",
   "metadata": {},
   "source": [
    "## 값이 잘 들어갔는지 확인"
   ]
  },
  {
   "cell_type": "code",
   "execution_count": 83,
   "metadata": {},
   "outputs": [
    {
     "data": {
      "text/plain": [
       "1.0"
      ]
     },
     "execution_count": 83,
     "metadata": {},
     "output_type": "execute_result"
    }
   ],
   "source": [
    "new_df.iloc[0]['galbitang']"
   ]
  },
  {
   "cell_type": "markdown",
   "metadata": {},
   "source": [
    "- 음식별 맛 합계"
   ]
  },
  {
   "cell_type": "code",
   "execution_count": 84,
   "metadata": {},
   "outputs": [
    {
     "data": {
      "text/plain": [
       "886.0"
      ]
     },
     "execution_count": 84,
     "metadata": {},
     "output_type": "execute_result"
    }
   ],
   "source": [
    "new_df.tteokgalbi.sum()"
   ]
  },
  {
   "cell_type": "code",
   "execution_count": 90,
   "metadata": {},
   "outputs": [
    {
     "data": {
      "text/plain": [
       "121"
      ]
     },
     "execution_count": 90,
     "metadata": {},
     "output_type": "execute_result"
    }
   ],
   "source": [
    "len(new_df.columns)"
   ]
  },
  {
   "cell_type": "markdown",
   "metadata": {},
   "source": [
    "- 음식 합계가 0인 음식은 지워라 "
   ]
  },
  {
   "cell_type": "code",
   "execution_count": 88,
   "metadata": {},
   "outputs": [],
   "source": [
    "for food in list(new_df.columns) :\n",
    "#     print(menu)\n",
    "    if new_df[food].sum() == 0 :\n",
    "        new_df = new_df.drop([food], axis=1)"
   ]
  },
  {
   "cell_type": "markdown",
   "metadata": {},
   "source": [
    "- 저장 "
   ]
  },
  {
   "cell_type": "code",
   "execution_count": 91,
   "metadata": {},
   "outputs": [],
   "source": [
    "new_df.to_csv('/home/team/바탕화면/파이널프로젝트2/data/new_df_final.csv')"
   ]
  },
  {
   "cell_type": "code",
   "execution_count": null,
   "metadata": {},
   "outputs": [],
   "source": []
  }
 ],
 "metadata": {
  "kernelspec": {
   "display_name": "Python 3",
   "language": "python",
   "name": "python3"
  },
  "language_info": {
   "codemirror_mode": {
    "name": "ipython",
    "version": 3
   },
   "file_extension": ".py",
   "mimetype": "text/x-python",
   "name": "python",
   "nbconvert_exporter": "python",
   "pygments_lexer": "ipython3",
   "version": "3.7.6"
  }
 },
 "nbformat": 4,
 "nbformat_minor": 2
}
