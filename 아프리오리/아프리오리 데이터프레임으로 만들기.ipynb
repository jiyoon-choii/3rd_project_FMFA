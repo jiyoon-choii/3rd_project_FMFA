{
 "cells": [
  {
   "cell_type": "markdown",
   "metadata": {},
   "source": [
    "# 파일불러오기"
   ]
  },
  {
   "cell_type": "code",
   "execution_count": 2,
   "metadata": {},
   "outputs": [
    {
     "name": "stdout",
     "output_type": "stream",
     "text": [
      "\u001b[33mWARNING: Keyring is skipped due to an exception: Failed to unlock the collection!\u001b[0m\n",
      "\u001b[33mWARNING: Keyring is skipped due to an exception: Failed to unlock the collection!\u001b[0m\n",
      "Collecting apyori\n",
      "\u001b[33m  WARNING: Keyring is skipped due to an exception: Failed to unlock the collection!\u001b[0m\n",
      "  Downloading apyori-1.1.2.tar.gz (8.6 kB)\n",
      "Building wheels for collected packages: apyori\n",
      "  Building wheel for apyori (setup.py) ... \u001b[?25ldone\n",
      "\u001b[?25h  Created wheel for apyori: filename=apyori-1.1.2-py3-none-any.whl size=5974 sha256=d328a72d0c1165e7f4f908fa36b0900b5efbebcaff36e4e79df9c0821910be06\n",
      "  Stored in directory: /home/team/.cache/pip/wheels/cb/f6/e1/57973c631d27efd1a2f375bd6a83b2a616c4021f24aab84080\n",
      "Successfully built apyori\n",
      "Installing collected packages: apyori\n",
      "Successfully installed apyori-1.1.2\n",
      "\u001b[33mWARNING: Keyring is skipped due to an exception: Failed to unlock the collection!\u001b[0m\n",
      "\u001b[33mWARNING: Keyring is skipped due to an exception: Failed to unlock the collection!\u001b[0m\n",
      "Note: you may need to restart the kernel to use updated packages.\n"
     ]
    }
   ],
   "source": [
    "pip install apyori"
   ]
  },
  {
   "cell_type": "code",
   "execution_count": 1,
   "metadata": {},
   "outputs": [],
   "source": [
    "import numpy as np\n",
    "import pandas as pd\n",
    "import matplotlib.pyplot as plt\n",
    "from apyori import apriori\n",
    "import pickle\n",
    "from tqdm import tqdm"
   ]
  },
  {
   "cell_type": "code",
   "execution_count": 4,
   "metadata": {},
   "outputs": [],
   "source": [
    "df = pd.read_csv(\"./data/new_df_final.csv\")\n",
    "# store_data.csv\n",
    "# df = pd.read_csv(\"./data/store_data.csv\")\n",
    "# df.head(2)"
   ]
  },
  {
   "cell_type": "code",
   "execution_count": 5,
   "metadata": {},
   "outputs": [],
   "source": [
    "df = df.drop([\"Unnamed: 0\"], axis=1)"
   ]
  },
  {
   "cell_type": "markdown",
   "metadata": {},
   "source": [
    "# 파일 복사"
   ]
  },
  {
   "cell_type": "code",
   "execution_count": 6,
   "metadata": {},
   "outputs": [],
   "source": [
    "test = df.drop([\"Unnamed: 0.1\", \"user_name\", \"food\"], axis=1)"
   ]
  },
  {
   "cell_type": "code",
   "execution_count": 7,
   "metadata": {
    "scrolled": true
   },
   "outputs": [
    {
     "data": {
      "text/html": [
       "<div>\n",
       "<style scoped>\n",
       "    .dataframe tbody tr th:only-of-type {\n",
       "        vertical-align: middle;\n",
       "    }\n",
       "\n",
       "    .dataframe tbody tr th {\n",
       "        vertical-align: top;\n",
       "    }\n",
       "\n",
       "    .dataframe thead th {\n",
       "        text-align: right;\n",
       "    }\n",
       "</style>\n",
       "<table border=\"1\" class=\"dataframe\">\n",
       "  <thead>\n",
       "    <tr style=\"text-align: right;\">\n",
       "      <th></th>\n",
       "      <th>galbigui</th>\n",
       "      <th>galchigui</th>\n",
       "      <th>godeungeogui</th>\n",
       "      <th>gopchanggui</th>\n",
       "      <th>dakgalbi</th>\n",
       "      <th>tteokgalbi</th>\n",
       "      <th>bulgogi</th>\n",
       "      <th>samgyeopsal</th>\n",
       "      <th>jangeogui</th>\n",
       "      <th>jogaegui</th>\n",
       "      <th>...</th>\n",
       "      <th>gamjatang</th>\n",
       "      <th>gomguk-seolleongtang</th>\n",
       "      <th>maeuntang</th>\n",
       "      <th>samgyetang</th>\n",
       "      <th>gochutwigim</th>\n",
       "      <th>saeutwigim</th>\n",
       "      <th>ojingeotwigim</th>\n",
       "      <th>yakgwa</th>\n",
       "      <th>hangwa</th>\n",
       "      <th>yukhoe</th>\n",
       "    </tr>\n",
       "  </thead>\n",
       "  <tbody>\n",
       "    <tr>\n",
       "      <th>0</th>\n",
       "      <td>NaN</td>\n",
       "      <td>NaN</td>\n",
       "      <td>NaN</td>\n",
       "      <td>NaN</td>\n",
       "      <td>NaN</td>\n",
       "      <td>NaN</td>\n",
       "      <td>1.0</td>\n",
       "      <td>NaN</td>\n",
       "      <td>NaN</td>\n",
       "      <td>NaN</td>\n",
       "      <td>...</td>\n",
       "      <td>NaN</td>\n",
       "      <td>NaN</td>\n",
       "      <td>NaN</td>\n",
       "      <td>NaN</td>\n",
       "      <td>NaN</td>\n",
       "      <td>NaN</td>\n",
       "      <td>NaN</td>\n",
       "      <td>NaN</td>\n",
       "      <td>NaN</td>\n",
       "      <td>NaN</td>\n",
       "    </tr>\n",
       "    <tr>\n",
       "      <th>1</th>\n",
       "      <td>NaN</td>\n",
       "      <td>NaN</td>\n",
       "      <td>NaN</td>\n",
       "      <td>NaN</td>\n",
       "      <td>NaN</td>\n",
       "      <td>NaN</td>\n",
       "      <td>1.0</td>\n",
       "      <td>NaN</td>\n",
       "      <td>NaN</td>\n",
       "      <td>NaN</td>\n",
       "      <td>...</td>\n",
       "      <td>NaN</td>\n",
       "      <td>NaN</td>\n",
       "      <td>NaN</td>\n",
       "      <td>NaN</td>\n",
       "      <td>NaN</td>\n",
       "      <td>NaN</td>\n",
       "      <td>NaN</td>\n",
       "      <td>NaN</td>\n",
       "      <td>NaN</td>\n",
       "      <td>NaN</td>\n",
       "    </tr>\n",
       "    <tr>\n",
       "      <th>2</th>\n",
       "      <td>1.0</td>\n",
       "      <td>NaN</td>\n",
       "      <td>NaN</td>\n",
       "      <td>NaN</td>\n",
       "      <td>NaN</td>\n",
       "      <td>NaN</td>\n",
       "      <td>NaN</td>\n",
       "      <td>NaN</td>\n",
       "      <td>NaN</td>\n",
       "      <td>NaN</td>\n",
       "      <td>...</td>\n",
       "      <td>NaN</td>\n",
       "      <td>NaN</td>\n",
       "      <td>NaN</td>\n",
       "      <td>NaN</td>\n",
       "      <td>NaN</td>\n",
       "      <td>NaN</td>\n",
       "      <td>NaN</td>\n",
       "      <td>NaN</td>\n",
       "      <td>NaN</td>\n",
       "      <td>NaN</td>\n",
       "    </tr>\n",
       "    <tr>\n",
       "      <th>3</th>\n",
       "      <td>1.0</td>\n",
       "      <td>NaN</td>\n",
       "      <td>NaN</td>\n",
       "      <td>NaN</td>\n",
       "      <td>NaN</td>\n",
       "      <td>NaN</td>\n",
       "      <td>NaN</td>\n",
       "      <td>NaN</td>\n",
       "      <td>NaN</td>\n",
       "      <td>NaN</td>\n",
       "      <td>...</td>\n",
       "      <td>NaN</td>\n",
       "      <td>NaN</td>\n",
       "      <td>NaN</td>\n",
       "      <td>NaN</td>\n",
       "      <td>NaN</td>\n",
       "      <td>NaN</td>\n",
       "      <td>NaN</td>\n",
       "      <td>NaN</td>\n",
       "      <td>NaN</td>\n",
       "      <td>NaN</td>\n",
       "    </tr>\n",
       "    <tr>\n",
       "      <th>4</th>\n",
       "      <td>1.0</td>\n",
       "      <td>NaN</td>\n",
       "      <td>NaN</td>\n",
       "      <td>NaN</td>\n",
       "      <td>NaN</td>\n",
       "      <td>NaN</td>\n",
       "      <td>NaN</td>\n",
       "      <td>NaN</td>\n",
       "      <td>NaN</td>\n",
       "      <td>NaN</td>\n",
       "      <td>...</td>\n",
       "      <td>NaN</td>\n",
       "      <td>NaN</td>\n",
       "      <td>NaN</td>\n",
       "      <td>NaN</td>\n",
       "      <td>NaN</td>\n",
       "      <td>NaN</td>\n",
       "      <td>NaN</td>\n",
       "      <td>NaN</td>\n",
       "      <td>NaN</td>\n",
       "      <td>NaN</td>\n",
       "    </tr>\n",
       "    <tr>\n",
       "      <th>...</th>\n",
       "      <td>...</td>\n",
       "      <td>...</td>\n",
       "      <td>...</td>\n",
       "      <td>...</td>\n",
       "      <td>...</td>\n",
       "      <td>...</td>\n",
       "      <td>...</td>\n",
       "      <td>...</td>\n",
       "      <td>...</td>\n",
       "      <td>...</td>\n",
       "      <td>...</td>\n",
       "      <td>...</td>\n",
       "      <td>...</td>\n",
       "      <td>...</td>\n",
       "      <td>...</td>\n",
       "      <td>...</td>\n",
       "      <td>...</td>\n",
       "      <td>...</td>\n",
       "      <td>...</td>\n",
       "      <td>...</td>\n",
       "      <td>...</td>\n",
       "    </tr>\n",
       "    <tr>\n",
       "      <th>78628</th>\n",
       "      <td>NaN</td>\n",
       "      <td>NaN</td>\n",
       "      <td>NaN</td>\n",
       "      <td>NaN</td>\n",
       "      <td>NaN</td>\n",
       "      <td>NaN</td>\n",
       "      <td>NaN</td>\n",
       "      <td>NaN</td>\n",
       "      <td>NaN</td>\n",
       "      <td>NaN</td>\n",
       "      <td>...</td>\n",
       "      <td>NaN</td>\n",
       "      <td>NaN</td>\n",
       "      <td>NaN</td>\n",
       "      <td>NaN</td>\n",
       "      <td>NaN</td>\n",
       "      <td>NaN</td>\n",
       "      <td>NaN</td>\n",
       "      <td>NaN</td>\n",
       "      <td>NaN</td>\n",
       "      <td>NaN</td>\n",
       "    </tr>\n",
       "    <tr>\n",
       "      <th>78629</th>\n",
       "      <td>NaN</td>\n",
       "      <td>NaN</td>\n",
       "      <td>NaN</td>\n",
       "      <td>NaN</td>\n",
       "      <td>NaN</td>\n",
       "      <td>NaN</td>\n",
       "      <td>NaN</td>\n",
       "      <td>NaN</td>\n",
       "      <td>NaN</td>\n",
       "      <td>NaN</td>\n",
       "      <td>...</td>\n",
       "      <td>NaN</td>\n",
       "      <td>NaN</td>\n",
       "      <td>NaN</td>\n",
       "      <td>NaN</td>\n",
       "      <td>NaN</td>\n",
       "      <td>NaN</td>\n",
       "      <td>NaN</td>\n",
       "      <td>NaN</td>\n",
       "      <td>NaN</td>\n",
       "      <td>NaN</td>\n",
       "    </tr>\n",
       "    <tr>\n",
       "      <th>78630</th>\n",
       "      <td>NaN</td>\n",
       "      <td>NaN</td>\n",
       "      <td>NaN</td>\n",
       "      <td>NaN</td>\n",
       "      <td>NaN</td>\n",
       "      <td>NaN</td>\n",
       "      <td>NaN</td>\n",
       "      <td>NaN</td>\n",
       "      <td>NaN</td>\n",
       "      <td>NaN</td>\n",
       "      <td>...</td>\n",
       "      <td>NaN</td>\n",
       "      <td>NaN</td>\n",
       "      <td>NaN</td>\n",
       "      <td>NaN</td>\n",
       "      <td>NaN</td>\n",
       "      <td>NaN</td>\n",
       "      <td>NaN</td>\n",
       "      <td>NaN</td>\n",
       "      <td>NaN</td>\n",
       "      <td>NaN</td>\n",
       "    </tr>\n",
       "    <tr>\n",
       "      <th>78631</th>\n",
       "      <td>NaN</td>\n",
       "      <td>NaN</td>\n",
       "      <td>NaN</td>\n",
       "      <td>NaN</td>\n",
       "      <td>NaN</td>\n",
       "      <td>NaN</td>\n",
       "      <td>NaN</td>\n",
       "      <td>NaN</td>\n",
       "      <td>NaN</td>\n",
       "      <td>NaN</td>\n",
       "      <td>...</td>\n",
       "      <td>NaN</td>\n",
       "      <td>NaN</td>\n",
       "      <td>NaN</td>\n",
       "      <td>NaN</td>\n",
       "      <td>NaN</td>\n",
       "      <td>NaN</td>\n",
       "      <td>NaN</td>\n",
       "      <td>NaN</td>\n",
       "      <td>NaN</td>\n",
       "      <td>NaN</td>\n",
       "    </tr>\n",
       "    <tr>\n",
       "      <th>78632</th>\n",
       "      <td>NaN</td>\n",
       "      <td>NaN</td>\n",
       "      <td>NaN</td>\n",
       "      <td>NaN</td>\n",
       "      <td>NaN</td>\n",
       "      <td>NaN</td>\n",
       "      <td>NaN</td>\n",
       "      <td>NaN</td>\n",
       "      <td>NaN</td>\n",
       "      <td>NaN</td>\n",
       "      <td>...</td>\n",
       "      <td>NaN</td>\n",
       "      <td>NaN</td>\n",
       "      <td>NaN</td>\n",
       "      <td>NaN</td>\n",
       "      <td>NaN</td>\n",
       "      <td>NaN</td>\n",
       "      <td>NaN</td>\n",
       "      <td>NaN</td>\n",
       "      <td>NaN</td>\n",
       "      <td>NaN</td>\n",
       "    </tr>\n",
       "  </tbody>\n",
       "</table>\n",
       "<p>78633 rows × 118 columns</p>\n",
       "</div>"
      ],
      "text/plain": [
       "       galbigui  galchigui  godeungeogui  gopchanggui  dakgalbi  tteokgalbi  \\\n",
       "0           NaN        NaN           NaN          NaN       NaN         NaN   \n",
       "1           NaN        NaN           NaN          NaN       NaN         NaN   \n",
       "2           1.0        NaN           NaN          NaN       NaN         NaN   \n",
       "3           1.0        NaN           NaN          NaN       NaN         NaN   \n",
       "4           1.0        NaN           NaN          NaN       NaN         NaN   \n",
       "...         ...        ...           ...          ...       ...         ...   \n",
       "78628       NaN        NaN           NaN          NaN       NaN         NaN   \n",
       "78629       NaN        NaN           NaN          NaN       NaN         NaN   \n",
       "78630       NaN        NaN           NaN          NaN       NaN         NaN   \n",
       "78631       NaN        NaN           NaN          NaN       NaN         NaN   \n",
       "78632       NaN        NaN           NaN          NaN       NaN         NaN   \n",
       "\n",
       "       bulgogi  samgyeopsal  jangeogui  jogaegui  ...  gamjatang  \\\n",
       "0          1.0          NaN        NaN       NaN  ...        NaN   \n",
       "1          1.0          NaN        NaN       NaN  ...        NaN   \n",
       "2          NaN          NaN        NaN       NaN  ...        NaN   \n",
       "3          NaN          NaN        NaN       NaN  ...        NaN   \n",
       "4          NaN          NaN        NaN       NaN  ...        NaN   \n",
       "...        ...          ...        ...       ...  ...        ...   \n",
       "78628      NaN          NaN        NaN       NaN  ...        NaN   \n",
       "78629      NaN          NaN        NaN       NaN  ...        NaN   \n",
       "78630      NaN          NaN        NaN       NaN  ...        NaN   \n",
       "78631      NaN          NaN        NaN       NaN  ...        NaN   \n",
       "78632      NaN          NaN        NaN       NaN  ...        NaN   \n",
       "\n",
       "       gomguk-seolleongtang  maeuntang  samgyetang  gochutwigim  saeutwigim  \\\n",
       "0                       NaN        NaN         NaN          NaN         NaN   \n",
       "1                       NaN        NaN         NaN          NaN         NaN   \n",
       "2                       NaN        NaN         NaN          NaN         NaN   \n",
       "3                       NaN        NaN         NaN          NaN         NaN   \n",
       "4                       NaN        NaN         NaN          NaN         NaN   \n",
       "...                     ...        ...         ...          ...         ...   \n",
       "78628                   NaN        NaN         NaN          NaN         NaN   \n",
       "78629                   NaN        NaN         NaN          NaN         NaN   \n",
       "78630                   NaN        NaN         NaN          NaN         NaN   \n",
       "78631                   NaN        NaN         NaN          NaN         NaN   \n",
       "78632                   NaN        NaN         NaN          NaN         NaN   \n",
       "\n",
       "       ojingeotwigim  yakgwa  hangwa  yukhoe  \n",
       "0                NaN     NaN     NaN     NaN  \n",
       "1                NaN     NaN     NaN     NaN  \n",
       "2                NaN     NaN     NaN     NaN  \n",
       "3                NaN     NaN     NaN     NaN  \n",
       "4                NaN     NaN     NaN     NaN  \n",
       "...              ...     ...     ...     ...  \n",
       "78628            NaN     NaN     NaN     NaN  \n",
       "78629            NaN     NaN     NaN     NaN  \n",
       "78630            NaN     NaN     NaN     NaN  \n",
       "78631            NaN     NaN     NaN     NaN  \n",
       "78632            NaN     NaN     NaN     NaN  \n",
       "\n",
       "[78633 rows x 118 columns]"
      ]
     },
     "execution_count": 7,
     "metadata": {},
     "output_type": "execute_result"
    }
   ],
   "source": [
    "test"
   ]
  },
  {
   "cell_type": "markdown",
   "metadata": {},
   "source": [
    "### 데이터 형식 바꾸기"
   ]
  },
  {
   "cell_type": "code",
   "execution_count": 8,
   "metadata": {
    "scrolled": true
   },
   "outputs": [
    {
     "name": "stderr",
     "output_type": "stream",
     "text": [
      "100%|██████████| 78633/78633 [01:41<00:00, 775.04it/s]\n"
     ]
    }
   ],
   "source": [
    "# 한줄씩 row 데이터를 뽑아서\n",
    "foods = list()\n",
    "cols  = test.columns\n",
    "for i in tqdm(range( test.shape[0])):\n",
    "    row_tmp = list()\n",
    "    tmp = test.iloc[i, :]\n",
    "    for j in range( tmp.shape[0]):\n",
    "        # NaN이 아닌 컬럼만 획득\n",
    "#         print(tmp[j])\n",
    "        if tmp[j] == 1.0:\n",
    "            row_tmp.append( cols[j] )\n",
    "        else:\n",
    "            row_tmp.append( np.nan )\n",
    "#         # 그 컬럼명만 리스트에 담는다         \n",
    "    foods.append( row_tmp )    "
   ]
  },
  {
   "cell_type": "code",
   "execution_count": 9,
   "metadata": {},
   "outputs": [
    {
     "data": {
      "text/plain": [
       "78633"
      ]
     },
     "execution_count": 9,
     "metadata": {},
     "output_type": "execute_result"
    }
   ],
   "source": [
    "test.shape[0]"
   ]
  },
  {
   "cell_type": "code",
   "execution_count": 10,
   "metadata": {},
   "outputs": [
    {
     "data": {
      "text/plain": [
       "78633"
      ]
     },
     "execution_count": 10,
     "metadata": {},
     "output_type": "execute_result"
    }
   ],
   "source": [
    "# len(foods) == test.shape[0]\n",
    "len(foods)"
   ]
  },
  {
   "cell_type": "code",
   "execution_count": 11,
   "metadata": {
    "scrolled": true
   },
   "outputs": [
    {
     "data": {
      "text/plain": [
       "118"
      ]
     },
     "execution_count": 11,
     "metadata": {},
     "output_type": "execute_result"
    }
   ],
   "source": [
    "test.shape[1]"
   ]
  },
  {
   "cell_type": "code",
   "execution_count": 12,
   "metadata": {},
   "outputs": [
    {
     "data": {
      "text/plain": [
       "118"
      ]
     },
     "execution_count": 12,
     "metadata": {},
     "output_type": "execute_result"
    }
   ],
   "source": [
    "len(foods[0])"
   ]
  },
  {
   "cell_type": "code",
   "execution_count": 13,
   "metadata": {},
   "outputs": [
    {
     "data": {
      "text/html": [
       "<div>\n",
       "<style scoped>\n",
       "    .dataframe tbody tr th:only-of-type {\n",
       "        vertical-align: middle;\n",
       "    }\n",
       "\n",
       "    .dataframe tbody tr th {\n",
       "        vertical-align: top;\n",
       "    }\n",
       "\n",
       "    .dataframe thead th {\n",
       "        text-align: right;\n",
       "    }\n",
       "</style>\n",
       "<table border=\"1\" class=\"dataframe\">\n",
       "  <thead>\n",
       "    <tr style=\"text-align: right;\">\n",
       "      <th></th>\n",
       "      <th>0</th>\n",
       "      <th>1</th>\n",
       "      <th>2</th>\n",
       "      <th>3</th>\n",
       "      <th>4</th>\n",
       "      <th>5</th>\n",
       "      <th>6</th>\n",
       "      <th>7</th>\n",
       "      <th>8</th>\n",
       "      <th>9</th>\n",
       "      <th>...</th>\n",
       "      <th>108</th>\n",
       "      <th>109</th>\n",
       "      <th>110</th>\n",
       "      <th>111</th>\n",
       "      <th>112</th>\n",
       "      <th>113</th>\n",
       "      <th>114</th>\n",
       "      <th>115</th>\n",
       "      <th>116</th>\n",
       "      <th>117</th>\n",
       "    </tr>\n",
       "  </thead>\n",
       "  <tbody>\n",
       "    <tr>\n",
       "      <th>0</th>\n",
       "      <td>NaN</td>\n",
       "      <td>NaN</td>\n",
       "      <td>NaN</td>\n",
       "      <td>NaN</td>\n",
       "      <td>NaN</td>\n",
       "      <td>NaN</td>\n",
       "      <td>bulgogi</td>\n",
       "      <td>NaN</td>\n",
       "      <td>NaN</td>\n",
       "      <td>NaN</td>\n",
       "      <td>...</td>\n",
       "      <td>NaN</td>\n",
       "      <td>NaN</td>\n",
       "      <td>NaN</td>\n",
       "      <td>NaN</td>\n",
       "      <td>NaN</td>\n",
       "      <td>NaN</td>\n",
       "      <td>NaN</td>\n",
       "      <td>NaN</td>\n",
       "      <td>NaN</td>\n",
       "      <td>NaN</td>\n",
       "    </tr>\n",
       "    <tr>\n",
       "      <th>1</th>\n",
       "      <td>NaN</td>\n",
       "      <td>NaN</td>\n",
       "      <td>NaN</td>\n",
       "      <td>NaN</td>\n",
       "      <td>NaN</td>\n",
       "      <td>NaN</td>\n",
       "      <td>bulgogi</td>\n",
       "      <td>NaN</td>\n",
       "      <td>NaN</td>\n",
       "      <td>NaN</td>\n",
       "      <td>...</td>\n",
       "      <td>NaN</td>\n",
       "      <td>NaN</td>\n",
       "      <td>NaN</td>\n",
       "      <td>NaN</td>\n",
       "      <td>NaN</td>\n",
       "      <td>NaN</td>\n",
       "      <td>NaN</td>\n",
       "      <td>NaN</td>\n",
       "      <td>NaN</td>\n",
       "      <td>NaN</td>\n",
       "    </tr>\n",
       "    <tr>\n",
       "      <th>2</th>\n",
       "      <td>galbigui</td>\n",
       "      <td>NaN</td>\n",
       "      <td>NaN</td>\n",
       "      <td>NaN</td>\n",
       "      <td>NaN</td>\n",
       "      <td>NaN</td>\n",
       "      <td>NaN</td>\n",
       "      <td>NaN</td>\n",
       "      <td>NaN</td>\n",
       "      <td>NaN</td>\n",
       "      <td>...</td>\n",
       "      <td>NaN</td>\n",
       "      <td>NaN</td>\n",
       "      <td>NaN</td>\n",
       "      <td>NaN</td>\n",
       "      <td>NaN</td>\n",
       "      <td>NaN</td>\n",
       "      <td>NaN</td>\n",
       "      <td>NaN</td>\n",
       "      <td>NaN</td>\n",
       "      <td>NaN</td>\n",
       "    </tr>\n",
       "    <tr>\n",
       "      <th>3</th>\n",
       "      <td>galbigui</td>\n",
       "      <td>NaN</td>\n",
       "      <td>NaN</td>\n",
       "      <td>NaN</td>\n",
       "      <td>NaN</td>\n",
       "      <td>NaN</td>\n",
       "      <td>NaN</td>\n",
       "      <td>NaN</td>\n",
       "      <td>NaN</td>\n",
       "      <td>NaN</td>\n",
       "      <td>...</td>\n",
       "      <td>NaN</td>\n",
       "      <td>NaN</td>\n",
       "      <td>NaN</td>\n",
       "      <td>NaN</td>\n",
       "      <td>NaN</td>\n",
       "      <td>NaN</td>\n",
       "      <td>NaN</td>\n",
       "      <td>NaN</td>\n",
       "      <td>NaN</td>\n",
       "      <td>NaN</td>\n",
       "    </tr>\n",
       "    <tr>\n",
       "      <th>4</th>\n",
       "      <td>galbigui</td>\n",
       "      <td>NaN</td>\n",
       "      <td>NaN</td>\n",
       "      <td>NaN</td>\n",
       "      <td>NaN</td>\n",
       "      <td>NaN</td>\n",
       "      <td>NaN</td>\n",
       "      <td>NaN</td>\n",
       "      <td>NaN</td>\n",
       "      <td>NaN</td>\n",
       "      <td>...</td>\n",
       "      <td>NaN</td>\n",
       "      <td>NaN</td>\n",
       "      <td>NaN</td>\n",
       "      <td>NaN</td>\n",
       "      <td>NaN</td>\n",
       "      <td>NaN</td>\n",
       "      <td>NaN</td>\n",
       "      <td>NaN</td>\n",
       "      <td>NaN</td>\n",
       "      <td>NaN</td>\n",
       "    </tr>\n",
       "    <tr>\n",
       "      <th>...</th>\n",
       "      <td>...</td>\n",
       "      <td>...</td>\n",
       "      <td>...</td>\n",
       "      <td>...</td>\n",
       "      <td>...</td>\n",
       "      <td>...</td>\n",
       "      <td>...</td>\n",
       "      <td>...</td>\n",
       "      <td>...</td>\n",
       "      <td>...</td>\n",
       "      <td>...</td>\n",
       "      <td>...</td>\n",
       "      <td>...</td>\n",
       "      <td>...</td>\n",
       "      <td>...</td>\n",
       "      <td>...</td>\n",
       "      <td>...</td>\n",
       "      <td>...</td>\n",
       "      <td>...</td>\n",
       "      <td>...</td>\n",
       "      <td>...</td>\n",
       "    </tr>\n",
       "    <tr>\n",
       "      <th>78628</th>\n",
       "      <td>NaN</td>\n",
       "      <td>NaN</td>\n",
       "      <td>NaN</td>\n",
       "      <td>NaN</td>\n",
       "      <td>NaN</td>\n",
       "      <td>NaN</td>\n",
       "      <td>NaN</td>\n",
       "      <td>NaN</td>\n",
       "      <td>NaN</td>\n",
       "      <td>NaN</td>\n",
       "      <td>...</td>\n",
       "      <td>NaN</td>\n",
       "      <td>NaN</td>\n",
       "      <td>NaN</td>\n",
       "      <td>NaN</td>\n",
       "      <td>NaN</td>\n",
       "      <td>NaN</td>\n",
       "      <td>NaN</td>\n",
       "      <td>NaN</td>\n",
       "      <td>NaN</td>\n",
       "      <td>NaN</td>\n",
       "    </tr>\n",
       "    <tr>\n",
       "      <th>78629</th>\n",
       "      <td>NaN</td>\n",
       "      <td>NaN</td>\n",
       "      <td>NaN</td>\n",
       "      <td>NaN</td>\n",
       "      <td>NaN</td>\n",
       "      <td>NaN</td>\n",
       "      <td>NaN</td>\n",
       "      <td>NaN</td>\n",
       "      <td>NaN</td>\n",
       "      <td>NaN</td>\n",
       "      <td>...</td>\n",
       "      <td>NaN</td>\n",
       "      <td>NaN</td>\n",
       "      <td>NaN</td>\n",
       "      <td>NaN</td>\n",
       "      <td>NaN</td>\n",
       "      <td>NaN</td>\n",
       "      <td>NaN</td>\n",
       "      <td>NaN</td>\n",
       "      <td>NaN</td>\n",
       "      <td>NaN</td>\n",
       "    </tr>\n",
       "    <tr>\n",
       "      <th>78630</th>\n",
       "      <td>NaN</td>\n",
       "      <td>NaN</td>\n",
       "      <td>NaN</td>\n",
       "      <td>NaN</td>\n",
       "      <td>NaN</td>\n",
       "      <td>NaN</td>\n",
       "      <td>NaN</td>\n",
       "      <td>NaN</td>\n",
       "      <td>NaN</td>\n",
       "      <td>NaN</td>\n",
       "      <td>...</td>\n",
       "      <td>NaN</td>\n",
       "      <td>NaN</td>\n",
       "      <td>NaN</td>\n",
       "      <td>NaN</td>\n",
       "      <td>NaN</td>\n",
       "      <td>NaN</td>\n",
       "      <td>NaN</td>\n",
       "      <td>NaN</td>\n",
       "      <td>NaN</td>\n",
       "      <td>NaN</td>\n",
       "    </tr>\n",
       "    <tr>\n",
       "      <th>78631</th>\n",
       "      <td>NaN</td>\n",
       "      <td>NaN</td>\n",
       "      <td>NaN</td>\n",
       "      <td>NaN</td>\n",
       "      <td>NaN</td>\n",
       "      <td>NaN</td>\n",
       "      <td>NaN</td>\n",
       "      <td>NaN</td>\n",
       "      <td>NaN</td>\n",
       "      <td>NaN</td>\n",
       "      <td>...</td>\n",
       "      <td>NaN</td>\n",
       "      <td>NaN</td>\n",
       "      <td>NaN</td>\n",
       "      <td>NaN</td>\n",
       "      <td>NaN</td>\n",
       "      <td>NaN</td>\n",
       "      <td>NaN</td>\n",
       "      <td>NaN</td>\n",
       "      <td>NaN</td>\n",
       "      <td>NaN</td>\n",
       "    </tr>\n",
       "    <tr>\n",
       "      <th>78632</th>\n",
       "      <td>NaN</td>\n",
       "      <td>NaN</td>\n",
       "      <td>NaN</td>\n",
       "      <td>NaN</td>\n",
       "      <td>NaN</td>\n",
       "      <td>NaN</td>\n",
       "      <td>NaN</td>\n",
       "      <td>NaN</td>\n",
       "      <td>NaN</td>\n",
       "      <td>NaN</td>\n",
       "      <td>...</td>\n",
       "      <td>NaN</td>\n",
       "      <td>NaN</td>\n",
       "      <td>NaN</td>\n",
       "      <td>NaN</td>\n",
       "      <td>NaN</td>\n",
       "      <td>NaN</td>\n",
       "      <td>NaN</td>\n",
       "      <td>NaN</td>\n",
       "      <td>NaN</td>\n",
       "      <td>NaN</td>\n",
       "    </tr>\n",
       "  </tbody>\n",
       "</table>\n",
       "<p>78633 rows × 118 columns</p>\n",
       "</div>"
      ],
      "text/plain": [
       "            0    1    2    3    4    5        6    7    8    9    ...  108  \\\n",
       "0           NaN  NaN  NaN  NaN  NaN  NaN  bulgogi  NaN  NaN  NaN  ...  NaN   \n",
       "1           NaN  NaN  NaN  NaN  NaN  NaN  bulgogi  NaN  NaN  NaN  ...  NaN   \n",
       "2      galbigui  NaN  NaN  NaN  NaN  NaN      NaN  NaN  NaN  NaN  ...  NaN   \n",
       "3      galbigui  NaN  NaN  NaN  NaN  NaN      NaN  NaN  NaN  NaN  ...  NaN   \n",
       "4      galbigui  NaN  NaN  NaN  NaN  NaN      NaN  NaN  NaN  NaN  ...  NaN   \n",
       "...         ...  ...  ...  ...  ...  ...      ...  ...  ...  ...  ...  ...   \n",
       "78628       NaN  NaN  NaN  NaN  NaN  NaN      NaN  NaN  NaN  NaN  ...  NaN   \n",
       "78629       NaN  NaN  NaN  NaN  NaN  NaN      NaN  NaN  NaN  NaN  ...  NaN   \n",
       "78630       NaN  NaN  NaN  NaN  NaN  NaN      NaN  NaN  NaN  NaN  ...  NaN   \n",
       "78631       NaN  NaN  NaN  NaN  NaN  NaN      NaN  NaN  NaN  NaN  ...  NaN   \n",
       "78632       NaN  NaN  NaN  NaN  NaN  NaN      NaN  NaN  NaN  NaN  ...  NaN   \n",
       "\n",
       "       109  110  111  112  113  114  115  116  117  \n",
       "0      NaN  NaN  NaN  NaN  NaN  NaN  NaN  NaN  NaN  \n",
       "1      NaN  NaN  NaN  NaN  NaN  NaN  NaN  NaN  NaN  \n",
       "2      NaN  NaN  NaN  NaN  NaN  NaN  NaN  NaN  NaN  \n",
       "3      NaN  NaN  NaN  NaN  NaN  NaN  NaN  NaN  NaN  \n",
       "4      NaN  NaN  NaN  NaN  NaN  NaN  NaN  NaN  NaN  \n",
       "...    ...  ...  ...  ...  ...  ...  ...  ...  ...  \n",
       "78628  NaN  NaN  NaN  NaN  NaN  NaN  NaN  NaN  NaN  \n",
       "78629  NaN  NaN  NaN  NaN  NaN  NaN  NaN  NaN  NaN  \n",
       "78630  NaN  NaN  NaN  NaN  NaN  NaN  NaN  NaN  NaN  \n",
       "78631  NaN  NaN  NaN  NaN  NaN  NaN  NaN  NaN  NaN  \n",
       "78632  NaN  NaN  NaN  NaN  NaN  NaN  NaN  NaN  NaN  \n",
       "\n",
       "[78633 rows x 118 columns]"
      ]
     },
     "execution_count": 13,
     "metadata": {},
     "output_type": "execute_result"
    }
   ],
   "source": [
    "tmp_df = pd.DataFrame( foods )\n",
    "tmp_df"
   ]
  },
  {
   "cell_type": "markdown",
   "metadata": {},
   "source": [
    "# 첫 번째 방법"
   ]
  },
  {
   "cell_type": "code",
   "execution_count": 14,
   "metadata": {
    "scrolled": true
   },
   "outputs": [
    {
     "data": {
      "text/plain": [
       "(78633, 118)"
      ]
     },
     "execution_count": 14,
     "metadata": {},
     "output_type": "execute_result"
    }
   ],
   "source": [
    "tmp_df.shape"
   ]
  },
  {
   "cell_type": "code",
   "execution_count": 15,
   "metadata": {
    "scrolled": true
   },
   "outputs": [
    {
     "name": "stderr",
     "output_type": "stream",
     "text": [
      "100%|██████████| 78633/78633 [00:49<00:00, 1587.08it/s]\n"
     ]
    }
   ],
   "source": [
    "from tqdm import tqdm\n",
    "records = []\n",
    "for i in tqdm(range(78633)):\n",
    "    records.append([str(tmp_df.values[i, j]) for j in range(0, 118)])"
   ]
  },
  {
   "cell_type": "code",
   "execution_count": 16,
   "metadata": {},
   "outputs": [
    {
     "data": {
      "text/plain": [
       "78633"
      ]
     },
     "execution_count": 16,
     "metadata": {},
     "output_type": "execute_result"
    }
   ],
   "source": [
    "len(records)"
   ]
  },
  {
   "cell_type": "code",
   "execution_count": 17,
   "metadata": {},
   "outputs": [],
   "source": [
    "association_rules   = apriori(records, min_support = 0.0045, min_confidence = .2, min_lift = 3, min_length = 2)\n",
    "# Convert above rules into a list of rules\n",
    "association_results = list(association_rules)"
   ]
  },
  {
   "cell_type": "code",
   "execution_count": 18,
   "metadata": {
    "scrolled": true
   },
   "outputs": [
    {
     "name": "stdout",
     "output_type": "stream",
     "text": [
      "8\n"
     ]
    }
   ],
   "source": [
    "# Total number of rules generated\n",
    "print(len(association_results))"
   ]
  },
  {
   "cell_type": "code",
   "execution_count": 44,
   "metadata": {
    "scrolled": true
   },
   "outputs": [
    {
     "name": "stdout",
     "output_type": "stream",
     "text": [
      "Rule :kimchijjigae->doenjangjjigae\n",
      "Support : 0.010809710935612275\n",
      "Confidence : 0.24031665253039297\n",
      "Lift : 6.756102730933998\n",
      "\n",
      "-------------------------------------------------\n",
      "\n",
      "Rule :friedchicken->yangnyeomchicken\n",
      "Support : 0.03136087902025867\n",
      "Confidence : 0.5452133539686049\n",
      "Lift : 10.229482620523338\n",
      "\n",
      "-------------------------------------------------\n",
      "\n",
      "Rule :friedchicken->bulgogi\n",
      "Support : 0.005010618951330866\n",
      "Confidence : 0.5710144927536233\n",
      "Lift : 10.713572562322991\n",
      "\n",
      "-------------------------------------------------\n",
      "\n",
      "Rule :kimchijjigae->nan\n",
      "Support : 0.010809710935612275\n",
      "Confidence : 0.24031665253039297\n",
      "Lift : 6.756102730933998\n",
      "\n",
      "-------------------------------------------------\n",
      "\n",
      "Rule :friedchicken->nan\n",
      "Support : 0.03136087902025867\n",
      "Confidence : 0.5452133539686049\n",
      "Lift : 10.229482620523338\n",
      "\n",
      "-------------------------------------------------\n",
      "\n",
      "Rule :friedchicken->yangnyeomchicken\n",
      "Support : 0.004819859346584767\n",
      "Confidence : 0.6233552631578947\n",
      "Lift : 11.69560830539125\n",
      "\n",
      "-------------------------------------------------\n",
      "\n",
      "Rule :friedchicken->nan\n",
      "Support : 0.005010618951330866\n",
      "Confidence : 0.5710144927536233\n",
      "Lift : 10.713572562322991\n",
      "\n",
      "-------------------------------------------------\n",
      "\n",
      "Rule :friedchicken->nan\n",
      "Support : 0.004819859346584767\n",
      "Confidence : 0.6233552631578947\n",
      "Lift : 11.69560830539125\n",
      "\n",
      "-------------------------------------------------\n",
      "\n"
     ]
    }
   ],
   "source": [
    "for item in association_results:\n",
    "    pair = item[0]\n",
    "    items = [x for x in pair]\n",
    "    print(\"Rule :\"+ str(items[0]) + \"->\" + str(items[1]) )\n",
    "    print(\"Support : {}\".format(item[1]))\n",
    "    print(\"Confidence : {}\".format(item[2][0][2]))\n",
    "    print(\"Lift : {}\".format(item[2][0][3]))\n",
    "    print(\"\\n-------------------------------------------------\\n\")"
   ]
  },
  {
   "cell_type": "markdown",
   "metadata": {},
   "source": [
    "# 데이터베이스에 넣을 데이터프레임 만들기"
   ]
  },
  {
   "cell_type": "code",
   "execution_count": 26,
   "metadata": {
    "scrolled": true
   },
   "outputs": [
    {
     "data": {
      "text/plain": [
       "[RelationRecord(items=frozenset({'kimchijjigae', 'doenjangjjigae'}), support=0.010809710935612275, ordered_statistics=[OrderedStatistic(items_base=frozenset({'doenjangjjigae'}), items_add=frozenset({'kimchijjigae'}), confidence=0.24031665253039297, lift=6.756102730933998), OrderedStatistic(items_base=frozenset({'kimchijjigae'}), items_add=frozenset({'doenjangjjigae'}), confidence=0.30389703253485884, lift=6.756102730933999)]),\n",
       " RelationRecord(items=frozenset({'friedchicken', 'yangnyeomchicken'}), support=0.03136087902025867, ordered_statistics=[OrderedStatistic(items_base=frozenset({'friedchicken'}), items_add=frozenset({'yangnyeomchicken'}), confidence=0.5452133539686049, lift=10.229482620523338), OrderedStatistic(items_base=frozenset({'yangnyeomchicken'}), items_add=frozenset({'friedchicken'}), confidence=0.58840372226199, lift=10.229482620523338)]),\n",
       " RelationRecord(items=frozenset({'friedchicken', 'bulgogi', 'yangnyeomchicken'}), support=0.005010618951330866, ordered_statistics=[OrderedStatistic(items_base=frozenset({'friedchicken', 'bulgogi'}), items_add=frozenset({'yangnyeomchicken'}), confidence=0.5710144927536233, lift=10.713572562322991), OrderedStatistic(items_base=frozenset({'bulgogi', 'yangnyeomchicken'}), items_add=frozenset({'friedchicken'}), confidence=0.657762938230384, lift=11.435302481067827)]),\n",
       " RelationRecord(items=frozenset({'kimchijjigae', 'nan', 'doenjangjjigae'}), support=0.010809710935612275, ordered_statistics=[OrderedStatistic(items_base=frozenset({'doenjangjjigae'}), items_add=frozenset({'kimchijjigae', 'nan'}), confidence=0.24031665253039297, lift=6.756102730933998), OrderedStatistic(items_base=frozenset({'kimchijjigae'}), items_add=frozenset({'nan', 'doenjangjjigae'}), confidence=0.30389703253485884, lift=6.756102730933999), OrderedStatistic(items_base=frozenset({'nan', 'doenjangjjigae'}), items_add=frozenset({'kimchijjigae'}), confidence=0.24031665253039297, lift=6.756102730933998), OrderedStatistic(items_base=frozenset({'kimchijjigae', 'nan'}), items_add=frozenset({'doenjangjjigae'}), confidence=0.30389703253485884, lift=6.756102730933999)]),\n",
       " RelationRecord(items=frozenset({'friedchicken', 'nan', 'yangnyeomchicken'}), support=0.03136087902025867, ordered_statistics=[OrderedStatistic(items_base=frozenset({'friedchicken'}), items_add=frozenset({'nan', 'yangnyeomchicken'}), confidence=0.5452133539686049, lift=10.229482620523338), OrderedStatistic(items_base=frozenset({'yangnyeomchicken'}), items_add=frozenset({'friedchicken', 'nan'}), confidence=0.58840372226199, lift=10.229482620523338), OrderedStatistic(items_base=frozenset({'friedchicken', 'nan'}), items_add=frozenset({'yangnyeomchicken'}), confidence=0.5452133539686049, lift=10.229482620523338), OrderedStatistic(items_base=frozenset({'nan', 'yangnyeomchicken'}), items_add=frozenset({'friedchicken'}), confidence=0.58840372226199, lift=10.229482620523338)]),\n",
       " RelationRecord(items=frozenset({'friedchicken', 'yangnyeomchicken', 'samgyeopsal'}), support=0.004819859346584767, ordered_statistics=[OrderedStatistic(items_base=frozenset({'friedchicken', 'samgyeopsal'}), items_add=frozenset({'yangnyeomchicken'}), confidence=0.6233552631578947, lift=11.69560830539125), OrderedStatistic(items_base=frozenset({'yangnyeomchicken', 'samgyeopsal'}), items_add=frozenset({'friedchicken'}), confidence=0.7070895522388059, lift=12.292852699799695)]),\n",
       " RelationRecord(items=frozenset({'friedchicken', 'nan', 'bulgogi', 'yangnyeomchicken'}), support=0.005010618951330866, ordered_statistics=[OrderedStatistic(items_base=frozenset({'friedchicken', 'bulgogi'}), items_add=frozenset({'nan', 'yangnyeomchicken'}), confidence=0.5710144927536233, lift=10.713572562322991), OrderedStatistic(items_base=frozenset({'bulgogi', 'yangnyeomchicken'}), items_add=frozenset({'friedchicken', 'nan'}), confidence=0.657762938230384, lift=11.435302481067827), OrderedStatistic(items_base=frozenset({'friedchicken', 'nan', 'bulgogi'}), items_add=frozenset({'yangnyeomchicken'}), confidence=0.5710144927536233, lift=10.713572562322991), OrderedStatistic(items_base=frozenset({'nan', 'bulgogi', 'yangnyeomchicken'}), items_add=frozenset({'friedchicken'}), confidence=0.657762938230384, lift=11.435302481067827)]),\n",
       " RelationRecord(items=frozenset({'friedchicken', 'nan', 'yangnyeomchicken', 'samgyeopsal'}), support=0.004819859346584767, ordered_statistics=[OrderedStatistic(items_base=frozenset({'friedchicken', 'samgyeopsal'}), items_add=frozenset({'nan', 'yangnyeomchicken'}), confidence=0.6233552631578947, lift=11.69560830539125), OrderedStatistic(items_base=frozenset({'yangnyeomchicken', 'samgyeopsal'}), items_add=frozenset({'friedchicken', 'nan'}), confidence=0.7070895522388059, lift=12.292852699799695), OrderedStatistic(items_base=frozenset({'friedchicken', 'nan', 'samgyeopsal'}), items_add=frozenset({'yangnyeomchicken'}), confidence=0.6233552631578947, lift=11.69560830539125), OrderedStatistic(items_base=frozenset({'yangnyeomchicken', 'nan', 'samgyeopsal'}), items_add=frozenset({'friedchicken'}), confidence=0.7070895522388059, lift=12.292852699799695)])]"
      ]
     },
     "execution_count": 26,
     "metadata": {},
     "output_type": "execute_result"
    }
   ],
   "source": [
    "association_results"
   ]
  },
  {
   "cell_type": "markdown",
   "metadata": {},
   "source": [
    "- association_results형태를 보고 각각 뽑아내서 데이터 프레임 새로 만들기"
   ]
  },
  {
   "cell_type": "code",
   "execution_count": 37,
   "metadata": {
    "scrolled": true
   },
   "outputs": [
    {
     "data": {
      "text/plain": [
       "OrderedStatistic(items_base=frozenset({'kimchijjigae'}), items_add=frozenset({'doenjangjjigae'}), confidence=0.30389703253485884, lift=6.756102730933999)"
      ]
     },
     "execution_count": 37,
     "metadata": {},
     "output_type": "execute_result"
    }
   ],
   "source": [
    "# 한 규칙에 대한 첫 번째 지수\n",
    "association_results[0][2][0]\n",
    "# 한 규칙에 대한 두 번째 지수\n",
    "association_results[0][2][1]"
   ]
  },
  {
   "cell_type": "markdown",
   "metadata": {},
   "source": [
    "- 새로운 빈 데이터 프레임 생성"
   ]
  },
  {
   "cell_type": "code",
   "execution_count": 89,
   "metadata": {},
   "outputs": [],
   "source": [
    "associ = pd.DataFrame(columns=[\"food\", \"with_food\", \"support\", \"confidence\", \"lift\"],\n",
    "                      index=range(8))"
   ]
  },
  {
   "cell_type": "markdown",
   "metadata": {},
   "source": [
    "- 데이터프레임에 값 넣기"
   ]
  },
  {
   "cell_type": "code",
   "execution_count": 96,
   "metadata": {},
   "outputs": [],
   "source": [
    "cnt = 0\n",
    "for idx, item in enumerate(association_results):\n",
    "    pair = item[0]\n",
    "    items = [x for x in pair]\n",
    "    associ[\"food\"][idx] = items[0]\n",
    "    associ[\"with_food\"][idx] = items[1]\n",
    "    associ[\"support\"][idx] = item[1]\n",
    "    associ[\"confidence\"][idx] = item[2][0][2]\n",
    "    associ[\"lift\"][idx] = item[2][0][3]"
   ]
  },
  {
   "cell_type": "markdown",
   "metadata": {},
   "source": [
    "- 데이터프레임 확인"
   ]
  },
  {
   "cell_type": "code",
   "execution_count": 97,
   "metadata": {
    "scrolled": true
   },
   "outputs": [
    {
     "data": {
      "text/html": [
       "<div>\n",
       "<style scoped>\n",
       "    .dataframe tbody tr th:only-of-type {\n",
       "        vertical-align: middle;\n",
       "    }\n",
       "\n",
       "    .dataframe tbody tr th {\n",
       "        vertical-align: top;\n",
       "    }\n",
       "\n",
       "    .dataframe thead th {\n",
       "        text-align: right;\n",
       "    }\n",
       "</style>\n",
       "<table border=\"1\" class=\"dataframe\">\n",
       "  <thead>\n",
       "    <tr style=\"text-align: right;\">\n",
       "      <th></th>\n",
       "      <th>food</th>\n",
       "      <th>with_food</th>\n",
       "      <th>support</th>\n",
       "      <th>confidence</th>\n",
       "      <th>lift</th>\n",
       "    </tr>\n",
       "  </thead>\n",
       "  <tbody>\n",
       "    <tr>\n",
       "      <th>0</th>\n",
       "      <td>kimchijjigae</td>\n",
       "      <td>doenjangjjigae</td>\n",
       "      <td>0.0108097</td>\n",
       "      <td>0.240317</td>\n",
       "      <td>6.7561</td>\n",
       "    </tr>\n",
       "    <tr>\n",
       "      <th>1</th>\n",
       "      <td>friedchicken</td>\n",
       "      <td>yangnyeomchicken</td>\n",
       "      <td>0.0313609</td>\n",
       "      <td>0.545213</td>\n",
       "      <td>10.2295</td>\n",
       "    </tr>\n",
       "    <tr>\n",
       "      <th>2</th>\n",
       "      <td>friedchicken</td>\n",
       "      <td>bulgogi</td>\n",
       "      <td>0.00501062</td>\n",
       "      <td>0.571014</td>\n",
       "      <td>10.7136</td>\n",
       "    </tr>\n",
       "    <tr>\n",
       "      <th>3</th>\n",
       "      <td>kimchijjigae</td>\n",
       "      <td>nan</td>\n",
       "      <td>0.0108097</td>\n",
       "      <td>0.240317</td>\n",
       "      <td>6.7561</td>\n",
       "    </tr>\n",
       "    <tr>\n",
       "      <th>4</th>\n",
       "      <td>friedchicken</td>\n",
       "      <td>nan</td>\n",
       "      <td>0.0313609</td>\n",
       "      <td>0.545213</td>\n",
       "      <td>10.2295</td>\n",
       "    </tr>\n",
       "    <tr>\n",
       "      <th>5</th>\n",
       "      <td>friedchicken</td>\n",
       "      <td>yangnyeomchicken</td>\n",
       "      <td>0.00481986</td>\n",
       "      <td>0.623355</td>\n",
       "      <td>11.6956</td>\n",
       "    </tr>\n",
       "    <tr>\n",
       "      <th>6</th>\n",
       "      <td>friedchicken</td>\n",
       "      <td>nan</td>\n",
       "      <td>0.00501062</td>\n",
       "      <td>0.571014</td>\n",
       "      <td>10.7136</td>\n",
       "    </tr>\n",
       "    <tr>\n",
       "      <th>7</th>\n",
       "      <td>friedchicken</td>\n",
       "      <td>nan</td>\n",
       "      <td>0.00481986</td>\n",
       "      <td>0.623355</td>\n",
       "      <td>11.6956</td>\n",
       "    </tr>\n",
       "  </tbody>\n",
       "</table>\n",
       "</div>"
      ],
      "text/plain": [
       "           food         with_food     support confidence     lift\n",
       "0  kimchijjigae    doenjangjjigae   0.0108097   0.240317   6.7561\n",
       "1  friedchicken  yangnyeomchicken   0.0313609   0.545213  10.2295\n",
       "2  friedchicken           bulgogi  0.00501062   0.571014  10.7136\n",
       "3  kimchijjigae               nan   0.0108097   0.240317   6.7561\n",
       "4  friedchicken               nan   0.0313609   0.545213  10.2295\n",
       "5  friedchicken  yangnyeomchicken  0.00481986   0.623355  11.6956\n",
       "6  friedchicken               nan  0.00501062   0.571014  10.7136\n",
       "7  friedchicken               nan  0.00481986   0.623355  11.6956"
      ]
     },
     "execution_count": 97,
     "metadata": {},
     "output_type": "execute_result"
    }
   ],
   "source": [
    "associ"
   ]
  },
  {
   "cell_type": "markdown",
   "metadata": {},
   "source": [
    "- 데이터 프레임 저장"
   ]
  },
  {
   "cell_type": "code",
   "execution_count": 98,
   "metadata": {},
   "outputs": [],
   "source": [
    "associ.to_csv(\"./data/associ.csv\")"
   ]
  },
  {
   "cell_type": "markdown",
   "metadata": {},
   "source": [
    "# 데이터 프레임 mongodb에 넣기"
   ]
  },
  {
   "cell_type": "code",
   "execution_count": 2,
   "metadata": {},
   "outputs": [],
   "source": [
    "import csv\n",
    "import json\n",
    "import pandas as pd\n",
    "import sys, getopt, pprint\n",
    "from pymongo import MongoClient"
   ]
  },
  {
   "cell_type": "code",
   "execution_count": 3,
   "metadata": {},
   "outputs": [],
   "source": [
    "client = MongoClient(\"mongodb://127.0.0.1:27017/\")"
   ]
  },
  {
   "cell_type": "code",
   "execution_count": 4,
   "metadata": {},
   "outputs": [],
   "source": [
    "db = client.test"
   ]
  },
  {
   "cell_type": "code",
   "execution_count": 102,
   "metadata": {},
   "outputs": [],
   "source": [
    "df = pd.read_csv(\"./data/associ.csv\")\n",
    "df = df.drop([\"Unnamed: 0\"], axis=1)"
   ]
  },
  {
   "cell_type": "code",
   "execution_count": 103,
   "metadata": {},
   "outputs": [
    {
     "data": {
      "text/html": [
       "<div>\n",
       "<style scoped>\n",
       "    .dataframe tbody tr th:only-of-type {\n",
       "        vertical-align: middle;\n",
       "    }\n",
       "\n",
       "    .dataframe tbody tr th {\n",
       "        vertical-align: top;\n",
       "    }\n",
       "\n",
       "    .dataframe thead th {\n",
       "        text-align: right;\n",
       "    }\n",
       "</style>\n",
       "<table border=\"1\" class=\"dataframe\">\n",
       "  <thead>\n",
       "    <tr style=\"text-align: right;\">\n",
       "      <th></th>\n",
       "      <th>food</th>\n",
       "      <th>with_food</th>\n",
       "      <th>support</th>\n",
       "      <th>confidence</th>\n",
       "      <th>lift</th>\n",
       "    </tr>\n",
       "  </thead>\n",
       "  <tbody>\n",
       "    <tr>\n",
       "      <th>0</th>\n",
       "      <td>kimchijjigae</td>\n",
       "      <td>doenjangjjigae</td>\n",
       "      <td>0.010810</td>\n",
       "      <td>0.240317</td>\n",
       "      <td>6.756103</td>\n",
       "    </tr>\n",
       "    <tr>\n",
       "      <th>1</th>\n",
       "      <td>friedchicken</td>\n",
       "      <td>yangnyeomchicken</td>\n",
       "      <td>0.031361</td>\n",
       "      <td>0.545213</td>\n",
       "      <td>10.229483</td>\n",
       "    </tr>\n",
       "    <tr>\n",
       "      <th>2</th>\n",
       "      <td>friedchicken</td>\n",
       "      <td>bulgogi</td>\n",
       "      <td>0.005011</td>\n",
       "      <td>0.571014</td>\n",
       "      <td>10.713573</td>\n",
       "    </tr>\n",
       "    <tr>\n",
       "      <th>3</th>\n",
       "      <td>kimchijjigae</td>\n",
       "      <td>NaN</td>\n",
       "      <td>0.010810</td>\n",
       "      <td>0.240317</td>\n",
       "      <td>6.756103</td>\n",
       "    </tr>\n",
       "    <tr>\n",
       "      <th>4</th>\n",
       "      <td>friedchicken</td>\n",
       "      <td>NaN</td>\n",
       "      <td>0.031361</td>\n",
       "      <td>0.545213</td>\n",
       "      <td>10.229483</td>\n",
       "    </tr>\n",
       "  </tbody>\n",
       "</table>\n",
       "</div>"
      ],
      "text/plain": [
       "           food         with_food   support  confidence       lift\n",
       "0  kimchijjigae    doenjangjjigae  0.010810    0.240317   6.756103\n",
       "1  friedchicken  yangnyeomchicken  0.031361    0.545213  10.229483\n",
       "2  friedchicken           bulgogi  0.005011    0.571014  10.713573\n",
       "3  kimchijjigae               NaN  0.010810    0.240317   6.756103\n",
       "4  friedchicken               NaN  0.031361    0.545213  10.229483"
      ]
     },
     "execution_count": 103,
     "metadata": {},
     "output_type": "execute_result"
    }
   ],
   "source": [
    "df.head()"
   ]
  },
  {
   "cell_type": "code",
   "execution_count": 104,
   "metadata": {},
   "outputs": [],
   "source": [
    "df.to_json(\"./data/associ.json\",orient = \"records\")\n",
    "test = open(\"./data/associ.json\").read()\n",
    "data = json.loads(test)"
   ]
  },
  {
   "cell_type": "code",
   "execution_count": 105,
   "metadata": {},
   "outputs": [],
   "source": [
    "rule = db.rule"
   ]
  },
  {
   "cell_type": "code",
   "execution_count": 106,
   "metadata": {},
   "outputs": [],
   "source": [
    "for i in data:\n",
    "    rule.insert_one(i)"
   ]
  },
  {
   "cell_type": "markdown",
   "metadata": {},
   "source": [
    "# 함수 만들기 - 1차"
   ]
  },
  {
   "cell_type": "markdown",
   "metadata": {},
   "source": [
    "- 로직\n",
    "    1. 이미지 분석에서 나온 결과물인 음식이름(텍스트)를 받는다\n",
    "    2. 만들어 놓은 규칙 데이터 프레임에서 그 음식이 있는 행을 찾는다\n",
    "    3. 그 행에서 리프트가 가장 높은 음식을 선택한다\n",
    "    4. 화면에 그것을 보내준단\n",
    "    \n",
    "- 참고자료\n",
    "    1. https://bbiyakbbiyak.tistory.com/7"
   ]
  },
  {
   "cell_type": "code",
   "execution_count": null,
   "metadata": {},
   "outputs": [],
   "source": [
    "def associ(food_text):\n",
    "    food_output = select rule from rule_statics where rule = food_text and where max(lift)\n",
    "    return food_output"
   ]
  },
  {
   "cell_type": "markdown",
   "metadata": {},
   "source": [
    "# 함수 만들기 - 2차"
   ]
  },
  {
   "cell_type": "code",
   "execution_count": null,
   "metadata": {},
   "outputs": [],
   "source": [
    "@csrf_exempt  \n",
    "def associ(food_text):\n",
    "    if request.method == 'GET':\n",
    "        ar = [ request.session['userid'] ]\n",
    "        \n",
    "        sql = \n",
    "        \"\"\"\n",
    "            SELECT RULE FROM RULE_STATICS\n",
    "            WHERE RULE=food_text AND\n",
    "            WHERE MAX(LIFT)\n",
    "        \"\"\"\n",
    "        \n",
    "        cursor.execute(sql, ar) \n",
    "        data = cursor.fetchone()   \n",
    "        print(data)\n",
    "\n",
    "        return render(request, 'member/edit.html', {\"one\":data}) "
   ]
  },
  {
   "cell_type": "markdown",
   "metadata": {},
   "source": []
  }
 ],
 "metadata": {
  "kernelspec": {
   "display_name": "Python 3",
   "language": "python",
   "name": "python3"
  },
  "language_info": {
   "codemirror_mode": {
    "name": "ipython",
    "version": 3
   },
   "file_extension": ".py",
   "mimetype": "text/x-python",
   "name": "python",
   "nbconvert_exporter": "python",
   "pygments_lexer": "ipython3",
   "version": "3.7.6"
  }
 },
 "nbformat": 4,
 "nbformat_minor": 4
}
